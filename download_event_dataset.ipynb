{
 "cells": [
  {
   "cell_type": "code",
   "execution_count": 28,
   "metadata": {},
   "outputs": [],
   "source": [
    "import sys\n",
    "\n",
    "sys.path.append('/leonardo/home/userexternal/rfelicet/qp-transform/src/qp_transform')\n"
   ]
  },
  {
   "cell_type": "code",
   "execution_count": 37,
   "metadata": {},
   "outputs": [
    {
     "name": "stdout",
     "output_type": "stream",
     "text": [
      "Checking if data exists...\n"
     ]
    },
    {
     "data": {
      "text/plain": [
       "{'GW150914-v3': {'L1': {'time_series': <TimeSeries([-8.63528663e-19, -8.38353102e-19, -8.30140228e-19,\n",
       "                ..., -9.16823059e-19, -9.71653764e-19,\n",
       "                -9.73937346e-19]\n",
       "               unit=Unit(dimensionless),\n",
       "               t0=<Quantity 1.12625944e+09 s>,\n",
       "               dt=<Quantity 0.00024414 s>,\n",
       "               name='Strain',\n",
       "               channel=None)>,\n",
       "   'gps_time': 1126259462}}}"
      ]
     },
     "execution_count": 37,
     "metadata": {},
     "output_type": "execute_result"
    }
   ],
   "source": [
    "from utils.preprocessing.gw_signal import get_data_from_gwosc\n",
    "local_path = '/leonardo_work/uTS23_Trovato_0/felicetti_tmp/qp_transform_data'\n",
    "get_data_from_gwosc( ['GW150914-v3'], ['L1'],segment_duration = 40, source='local', local_path=local_path,)"
   ]
  }
 ],
 "metadata": {
  "kernelspec": {
   "display_name": "Python 3 (ipykernel)",
   "language": "python",
   "name": "python3"
  },
  "language_info": {
   "codemirror_mode": {
    "name": "ipython",
    "version": 3
   },
   "file_extension": ".py",
   "mimetype": "text/x-python",
   "name": "python",
   "nbconvert_exporter": "python",
   "pygments_lexer": "ipython3",
   "version": "3.11.7"
  }
 },
 "nbformat": 4,
 "nbformat_minor": 2
}
