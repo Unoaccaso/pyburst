{
 "cells": [
  {
   "cell_type": "code",
   "execution_count": 1,
   "metadata": {},
   "outputs": [],
   "source": [
    "import sys\n",
    "\n",
    "sys.path.insert(0, \"../src\")"
   ]
  },
  {
   "cell_type": "code",
   "execution_count": 2,
   "metadata": {},
   "outputs": [
    {
     "name": "stdout",
     "output_type": "stream",
     "text": [
      "shape: (1, 9)\n",
      "┌────────────┬────────────┬──────────┬──────────┬───┬───────────┬───────────┬───────────┬──────────┐\n",
      "│ detector_i ┆ detector_n ┆ dt       ┆ duration ┆ … ┆ reference ┆ sampling_ ┆ segment_n ┆ t0_gps   │\n",
      "│ d          ┆ ame        ┆ ---      ┆ ---      ┆   ┆ _time_gps ┆ rate      ┆ ame       ┆ ---      │\n",
      "│ ---        ┆ ---        ┆ f64      ┆ f64      ┆   ┆ ---       ┆ ---       ┆ ---       ┆ f64      │\n",
      "│ str        ┆ str        ┆          ┆          ┆   ┆ f64       ┆ i64       ┆ str       ┆          │\n",
      "╞════════════╪════════════╪══════════╪══════════╪═══╪═══════════╪═══════════╪═══════════╪══════════╡\n",
      "│ L1         ┆ Ligo       ┆ 0.000244 ┆ 10.0     ┆ … ┆ 1.1263e9  ┆ 4096      ┆ GW150914- ┆ 1.1263e9 │\n",
      "│            ┆ Livingston ┆          ┆          ┆   ┆           ┆           ┆ v3        ┆          │\n",
      "│            ┆ (L1)       ┆          ┆          ┆   ┆           ┆           ┆           ┆          │\n",
      "└────────────┴────────────┴──────────┴──────────┴───┴───────────┴───────────┴───────────┴──────────┘\n"
     ]
    }
   ],
   "source": [
    "from timeserie import from_file\n",
    "\n",
    "ts = from_file(\"../saves/GW150914-v3/L1/\")"
   ]
  }
 ],
 "metadata": {
  "kernelspec": {
   "display_name": "ts-vnv",
   "language": "python",
   "name": "python3"
  },
  "language_info": {
   "codemirror_mode": {
    "name": "ipython",
    "version": 3
   },
   "file_extension": ".py",
   "mimetype": "text/x-python",
   "name": "python",
   "nbconvert_exporter": "python",
   "pygments_lexer": "ipython3",
   "version": "3.11.5"
  }
 },
 "nbformat": 4,
 "nbformat_minor": 2
}
