{
 "cells": [
  {
   "cell_type": "code",
   "execution_count": 1,
   "metadata": {},
   "outputs": [],
   "source": [
    "import sys\n",
    "\n",
    "sys.path.insert(0, \"../src/\")"
   ]
  },
  {
   "cell_type": "code",
   "execution_count": 2,
   "metadata": {},
   "outputs": [],
   "source": [
    "import timeseries\n",
    "import importlib\n",
    "\n",
    "importlib.reload(timeseries)\n",
    "from timeseries import TimeSeries"
   ]
  },
  {
   "cell_type": "code",
   "execution_count": 3,
   "metadata": {},
   "outputs": [
    {
     "name": "stderr",
     "output_type": "stream",
     "text": [
      "/home/riccardo/timeseries/jupyter/../src/timeseries/timeseries.py:154: UserWarning: dt set to 0.000244140625\n",
      "  warnings.warn(f'dt set to {kwargs[\"dt\"]}')\n",
      "/home/riccardo/timeseries/jupyter/../src/timeseries/timeseries.py:160: UserWarning: The time array will not include the last element: [start time, end time).\n",
      "This is to avoid superprosition of data and repetition.\n",
      "So the actual duration is 1999.999755859375\n",
      "  warnings.warn(\n",
      "/home/riccardo/timeseries/jupyter/../src/timeseries/core/ts_base/ts_base.py:172: UserWarning: reference_time_gps set to 0.0\n",
      "  warnings.warn(f\"reference_time_gps set to {self.t0_gps}\")\n"
     ]
    }
   ],
   "source": [
    "sampling_rate = 4096\n",
    "duration = 2_000.0\n",
    "import numpy\n",
    "\n",
    "ser = TimeSeries.from_array(\n",
    "    values=numpy.random.normal(\n",
    "        0,\n",
    "        1,\n",
    "        int(sampling_rate * duration - 1),\n",
    "    ).astype(numpy.float32),\n",
    "    # gps_times= numpy.arange(0, 100 + 1e-5, 1e-5),\n",
    "    # segment_name=\"GW150914-v3\",\n",
    "    # detector_id=\"-\",\n",
    "    # dt = 1e-5,\n",
    "    sampling_rate=sampling_rate,\n",
    "    t0_gps=0.0,\n",
    "    duration=duration,\n",
    ")"
   ]
  },
  {
   "cell_type": "code",
   "execution_count": 4,
   "metadata": {},
   "outputs": [
    {
     "name": "stdout",
     "output_type": "stream",
     "text": [
      "╒══════════════╤═══════════════╤══════════════════════════╤════════════════╤══════════╤══════════════╕\n",
      "│ event name   │ detector id   │ data type                │ duration [s]   │ size     │ % of cache   │\n",
      "╞══════════════╪═══════════════╪══════════════════════════╪════════════════╪══════════╪══════════════╡\n",
      "│ -            │ -             │ [numpy.ndarray<float32>] │ 2.0e+03        │ 31.25 MB │ 3.13 %       │\n",
      "├──────────────┼───────────────┼──────────────────────────┼────────────────┼──────────┼──────────────┤\n",
      "│              │               │                          │ Tot            │ 31.25 MB │ 3.13 %       │\n",
      "╘══════════════╧═══════════════╧══════════════════════════╧════════════════╧══════════╧══════════════╛\n"
     ]
    }
   ],
   "source": [
    "print(timeseries.TimeSeries._DATA_CACHE)"
   ]
  },
  {
   "cell_type": "code",
   "execution_count": 5,
   "metadata": {},
   "outputs": [
    {
     "name": "stderr",
     "output_type": "stream",
     "text": [
      "/home/riccardo/timeseries/jupyter/../src/timeseries/timeseries.py:184: UserWarning: t0_gps set to 1126259457.3999023\n",
      "  warnings.warn(f't0_gps set to {kwargs[\"t0_gps\"]}')\n",
      "/home/riccardo/timeseries/jupyter/../src/timeseries/timeseries.py:202: UserWarning: dt set to 0.000244140625\n",
      "  warnings.warn(f'dt set to {kwargs[\"dt\"]}')\n",
      "/home/riccardo/timeseries/jupyter/../src/timeseries/timeseries.py:216: UserWarning: sampling_rate set to 4096\n",
      "  warnings.warn(f'sampling_rate set to {kwargs[\"sampling_rate\"]}')\n"
     ]
    },
    {
     "name": "stdout",
     "output_type": "stream",
     "text": [
      "dict_keys([('GW150914-v2', 'L1'), ('GW150914-v2', 'H1'), ('GW150914-v3', 'L1'), ('GW150914-v3', 'H1'), ('GW150914-v1', 'L1'), ('GW150914-v1', 'H1')])\n",
      "╒══════════════╤═══════════════╤══════════════════════════╤════════════════╤═══════════╤══════════════╕\n",
      "│ event name   │ detector id   │ data type                │ duration [s]   │ size      │ % of cache   │\n",
      "╞══════════════╪═══════════════╪══════════════════════════╪════════════════╪═══════════╪══════════════╡\n",
      "│ -            │ -             │ [numpy.ndarray<float32>] │ 2.0e+03        │ 31.25 MB  │ 3.13 %       │\n",
      "├──────────────┼───────────────┼──────────────────────────┼────────────────┼───────────┼──────────────┤\n",
      "│ GW150914-v1  │ L1            │ [numpy.ndarray<float64>] │ 1.0e+01        │ 640.26 kB │ 0.06 %       │\n",
      "├──────────────┼───────────────┼──────────────────────────┼────────────────┼───────────┼──────────────┤\n",
      "│ GW150914-v1  │ H1            │ [numpy.ndarray<float64>] │ 1.0e+01        │ 640.26 kB │ 0.06 %       │\n",
      "├──────────────┼───────────────┼──────────────────────────┼────────────────┼───────────┼──────────────┤\n",
      "│ GW150914-v3  │ H1            │ [numpy.ndarray<float64>] │ 1.0e+01        │ 640.26 kB │ 0.06 %       │\n",
      "├──────────────┼───────────────┼──────────────────────────┼────────────────┼───────────┼──────────────┤\n",
      "│ GW150914-v3  │ L1            │ [numpy.ndarray<float64>] │ 1.0e+01        │ 640.26 kB │ 0.06 %       │\n",
      "├──────────────┼───────────────┼──────────────────────────┼────────────────┼───────────┼──────────────┤\n",
      "│ GW150914-v2  │ H1            │ [numpy.ndarray<float64>] │ 1.0e+01        │ 640.26 kB │ 0.06 %       │\n",
      "├──────────────┼───────────────┼──────────────────────────┼────────────────┼───────────┼──────────────┤\n",
      "│ GW150914-v2  │ L1            │ [numpy.ndarray<float64>] │ 1.0e+01        │ 640.26 kB │ 0.06 %       │\n",
      "├──────────────┼───────────────┼──────────────────────────┼────────────────┼───────────┼──────────────┤\n",
      "│              │               │                          │ Tot            │ 35.00 MB  │ 3.50 %       │\n",
      "╘══════════════╧═══════════════╧══════════════════════════╧════════════════╧═══════════╧══════════════╛\n"
     ]
    }
   ],
   "source": [
    "res = timeseries.TimeSeries.fetch_event(\n",
    "    [\"GW150914-v2\", \"GW150914-v3\", \"GW150914-v1\"],\n",
    "    [\"L1\", \"H1\"],\n",
    "    # verbose=True,\n",
    "    duration=10.0,\n",
    ")\n",
    "print(res.keys())\n",
    "print(timeseries.TimeSeries._DATA_CACHE)"
   ]
  },
  {
   "cell_type": "code",
   "execution_count": 11,
   "metadata": {},
   "outputs": [
    {
     "data": {
      "text/plain": [
       "{('GW150914-v1',\n",
       "  'L1'): \n",
       " Time serie content:\n",
       " \n",
       " ╒══════════════════════════╤═══════════════════════════════════════════════════════════╤══════════╤═══════════╕\n",
       " │ name                     │                          content                          │  shape   │      size │\n",
       " ╞══════════════════════════╪═══════════════════════════════════════════════════════════╪══════════╪═══════════╡\n",
       " │ values                   │ [-1.58278282e-18, -1.61982706e-18, -1.62617838e-18, ...,  │ (40961,) │ 320.01 kB │\n",
       " │ [numpy.ndarray<float64>] │        -1.01219417e-18, -1.00233502e-18, -9.80062946e-19] │          │           │\n",
       " ├──────────────────────────┼───────────────────────────────────────────────────────────┼──────────┼───────────┤\n",
       " │ gps times                │   [1.12625946e+09, 1.12625946e+09, 1.12625946e+09, ...,   │ (40961,) │ 320.01 kB │\n",
       " │ [numpy.ndarray<float64>] │         1.12625947e+09, 1.12625947e+09, 1.12625947e+09]   │          │           │\n",
       " ├──────────────────────────┼───────────────────────────────────────────────────────────┼──────────┼───────────┤\n",
       " │ fft values               │                         --------                          │ -------- │       0 B │\n",
       " │ [not allocated yet]      │                                                           │          │           │\n",
       " ├──────────────────────────┼───────────────────────────────────────────────────────────┼──────────┼───────────┤\n",
       " │ fft frequencies          │                         --------                          │ -------- │       0 B │\n",
       " │ [not allocated yet]      │                                                           │          │           │\n",
       " ╘══════════════════════════╧═══════════════════════════════════════════════════════════╧══════════╧═══════════╛\n",
       " \n",
       " Time serie attributes:\n",
       " \n",
       " +--------------------+----------------------+---------+--------+\n",
       " | name               | value                | type    |   size |\n",
       " +====================+======================+=========+========+\n",
       " | segment name       | GW150914-v1          | str     |   60 B |\n",
       " | detector id        | L1                   | str     |   51 B |\n",
       " | detector name      | Ligo Livingston (L1) | str     |   69 B |\n",
       " | dt                 | 0.000244140625       | float64 |    8 B |\n",
       " | sampling rate      | 4096                 | int64   |    8 B |\n",
       " | t0 gps             | 1126259457.3999023   | float64 |    8 B |\n",
       " | duration           | 10.0                 | float64 |    8 B |\n",
       " | reference time gps | 1126259462.4         | float64 |    8 B |\n",
       " +--------------------+----------------------+---------+--------+,\n",
       " ('GW150914-v3',\n",
       "  'L1'): \n",
       " Time serie content:\n",
       " \n",
       " ╒══════════════════════════╤═══════════════════════════════════════════════════════════╤══════════╤═══════════╕\n",
       " │ name                     │                          content                          │  shape   │      size │\n",
       " ╞══════════════════════════╪═══════════════════════════════════════════════════════════╪══════════╪═══════════╡\n",
       " │ values                   │ [-1.58278282e-18, -1.61982706e-18, -1.62617838e-18, ...,  │ (40961,) │ 320.01 kB │\n",
       " │ [numpy.ndarray<float64>] │        -1.01219417e-18, -1.00233502e-18, -9.80062946e-19] │          │           │\n",
       " ├──────────────────────────┼───────────────────────────────────────────────────────────┼──────────┼───────────┤\n",
       " │ gps times                │   [1.12625946e+09, 1.12625946e+09, 1.12625946e+09, ...,   │ (40961,) │ 320.01 kB │\n",
       " │ [numpy.ndarray<float64>] │         1.12625947e+09, 1.12625947e+09, 1.12625947e+09]   │          │           │\n",
       " ├──────────────────────────┼───────────────────────────────────────────────────────────┼──────────┼───────────┤\n",
       " │ fft values               │                         --------                          │ -------- │       0 B │\n",
       " │ [not allocated yet]      │                                                           │          │           │\n",
       " ├──────────────────────────┼───────────────────────────────────────────────────────────┼──────────┼───────────┤\n",
       " │ fft frequencies          │                         --------                          │ -------- │       0 B │\n",
       " │ [not allocated yet]      │                                                           │          │           │\n",
       " ╘══════════════════════════╧═══════════════════════════════════════════════════════════╧══════════╧═══════════╛\n",
       " \n",
       " Time serie attributes:\n",
       " \n",
       " +--------------------+----------------------+---------+--------+\n",
       " | name               | value                | type    |   size |\n",
       " +====================+======================+=========+========+\n",
       " | segment name       | GW150914-v3          | str     |   60 B |\n",
       " | detector id        | L1                   | str     |   51 B |\n",
       " | detector name      | Ligo Livingston (L1) | str     |   69 B |\n",
       " | dt                 | 0.000244140625       | float64 |    8 B |\n",
       " | sampling rate      | 4096                 | int64   |    8 B |\n",
       " | t0 gps             | 1126259457.3999023   | float64 |    8 B |\n",
       " | duration           | 10.0                 | float64 |    8 B |\n",
       " | reference time gps | 1126259462.4         | float64 |    8 B |\n",
       " +--------------------+----------------------+---------+--------+,\n",
       " ('GW150914-v2',\n",
       "  'L1'): \n",
       " Time serie content:\n",
       " \n",
       " ╒══════════════════════════╤═══════════════════════════════════════════════════════════╤══════════╤═══════════╕\n",
       " │ name                     │                          content                          │  shape   │      size │\n",
       " ╞══════════════════════════╪═══════════════════════════════════════════════════════════╪══════════╪═══════════╡\n",
       " │ values                   │ [-1.58278282e-18, -1.61982706e-18, -1.62617838e-18, ...,  │ (40961,) │ 320.01 kB │\n",
       " │ [numpy.ndarray<float64>] │        -1.01219417e-18, -1.00233502e-18, -9.80062946e-19] │          │           │\n",
       " ├──────────────────────────┼───────────────────────────────────────────────────────────┼──────────┼───────────┤\n",
       " │ gps times                │   [1.12625946e+09, 1.12625946e+09, 1.12625946e+09, ...,   │ (40961,) │ 320.01 kB │\n",
       " │ [numpy.ndarray<float64>] │         1.12625947e+09, 1.12625947e+09, 1.12625947e+09]   │          │           │\n",
       " ├──────────────────────────┼───────────────────────────────────────────────────────────┼──────────┼───────────┤\n",
       " │ fft values               │                         --------                          │ -------- │       0 B │\n",
       " │ [not allocated yet]      │                                                           │          │           │\n",
       " ├──────────────────────────┼───────────────────────────────────────────────────────────┼──────────┼───────────┤\n",
       " │ fft frequencies          │                         --------                          │ -------- │       0 B │\n",
       " │ [not allocated yet]      │                                                           │          │           │\n",
       " ╘══════════════════════════╧═══════════════════════════════════════════════════════════╧══════════╧═══════════╛\n",
       " \n",
       " Time serie attributes:\n",
       " \n",
       " +--------------------+----------------------+---------+--------+\n",
       " | name               | value                | type    |   size |\n",
       " +====================+======================+=========+========+\n",
       " | segment name       | GW150914-v2          | str     |   60 B |\n",
       " | detector id        | L1                   | str     |   51 B |\n",
       " | detector name      | Ligo Livingston (L1) | str     |   69 B |\n",
       " | dt                 | 0.000244140625       | float64 |    8 B |\n",
       " | sampling rate      | 4096                 | int64   |    8 B |\n",
       " | t0 gps             | 1126259457.3999023   | float64 |    8 B |\n",
       " | duration           | 10.0                 | float64 |    8 B |\n",
       " | reference time gps | 1126259462.4         | float64 |    8 B |\n",
       " +--------------------+----------------------+---------+--------+}"
      ]
     },
     "execution_count": 11,
     "metadata": {},
     "output_type": "execute_result"
    }
   ],
   "source": [
    "timeseries.TimeSeries.get_cached_data(detector_ids=\"L1\")"
   ]
  },
  {
   "cell_type": "code",
   "execution_count": 7,
   "metadata": {},
   "outputs": [],
   "source": [
    "# cropped = ser.crop(70, 200)\n",
    "# cropped.fft_values\n",
    "# cropped.fft_frequencies\n",
    "# cropped"
   ]
  }
 ],
 "metadata": {
  "kernelspec": {
   "display_name": "ts-vnv",
   "language": "python",
   "name": "python3"
  },
  "language_info": {
   "codemirror_mode": {
    "name": "ipython",
    "version": 3
   },
   "file_extension": ".py",
   "mimetype": "text/x-python",
   "name": "python",
   "nbconvert_exporter": "python",
   "pygments_lexer": "ipython3",
   "version": "3.11.5"
  }
 },
 "nbformat": 4,
 "nbformat_minor": 2
}
