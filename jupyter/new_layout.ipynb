{
 "cells": [
  {
   "cell_type": "code",
   "execution_count": 1,
   "metadata": {},
   "outputs": [],
   "source": [
    "import sys\n",
    "\n",
    "sys.path.insert(0, \"../src/\")"
   ]
  },
  {
   "cell_type": "code",
   "execution_count": 2,
   "metadata": {},
   "outputs": [
    {
     "name": "stderr",
     "output_type": "stream",
     "text": [
      "/home/riccardo/timeseries/jupyter/../src/timeseries/timeseries.py:36: UserWarning: cache is being deleted!\n",
      "  warnings.warn(\"cache is being deleted!\")\n"
     ]
    }
   ],
   "source": [
    "import timeseries\n",
    "import importlib\n",
    "\n",
    "importlib.reload(timeseries)\n",
    "from timeseries import TimeSeries\n",
    "import cupy"
   ]
  },
  {
   "cell_type": "code",
   "execution_count": 3,
   "metadata": {},
   "outputs": [
    {
     "name": "stderr",
     "output_type": "stream",
     "text": [
      "/home/riccardo/timeseries/jupyter/../src/timeseries/timeseries.py:131: UserWarning: dt set to 0.000244140625\n",
      "  warnings.warn(f'dt set to {kwargs[\"dt\"]}')\n",
      "/home/riccardo/timeseries/jupyter/../src/timeseries/timeseries.py:137: UserWarning: The time array will not include the last element: [start time, end time).\n",
      "This is to avoid superprosition of data and repetition.\n",
      "So the actual duration is 1999.999755859375\n",
      "  warnings.warn(\n",
      "/home/riccardo/timeseries/jupyter/../src/timeseries/core/_ts_base/_ts_base.py:172: UserWarning: reference_time_gps set to 0.0\n",
      "  warnings.warn(f\"reference_time_gps set to {self.t0_gps}\")\n"
     ]
    }
   ],
   "source": [
    "\n",
    "\n",
    "sampling_rate = 4096\n",
    "duration = 2_000.0\n",
    "import numpy\n",
    "\n",
    "ser = TimeSeries.from_array(\n",
    "    values=numpy.random.normal(\n",
    "        0,\n",
    "        1,\n",
    "        int(sampling_rate * duration - 1),\n",
    "    ).astype(numpy.float32),\n",
    "    # gps_times= numpy.arange(0, 100 + 1e-5, 1e-5),\n",
    "    # segment_name=\"GW150914-v3\",\n",
    "    # detector_id=\"-\",\n",
    "    # dt = 1e-5,\n",
    "    sampling_rate=sampling_rate,\n",
    "    t0_gps=0.0,\n",
    "    duration=duration,\n",
    ")"
   ]
  },
  {
   "cell_type": "code",
   "execution_count": 4,
   "metadata": {},
   "outputs": [
    {
     "name": "stdout",
     "output_type": "stream",
     "text": [
      "╒══════════════╤═══════════════╤══════════════════════════╤════════════════╤══════════╤══════════════╕\n",
      "│ event name   │ detector id   │ data type                │ duration [s]   │ size     │ % of cache   │\n",
      "╞══════════════╪═══════════════╪══════════════════════════╪════════════════╪══════════╪══════════════╡\n",
      "│ -            │ -             │ [numpy.ndarray<float32>] │ 2.0e+03        │ 31.25 MB │ 78.13 %      │\n",
      "├──────────────┼───────────────┼──────────────────────────┼────────────────┼──────────┼──────────────┤\n",
      "│              │               │                          │ Tot            │ 31.25 MB │ 78.13 %      │\n",
      "╘══════════════╧═══════════════╧══════════════════════════╧════════════════╧══════════╧══════════════╛\n"
     ]
    }
   ],
   "source": [
    "print(timeseries.TimeSeries._DATA_CACHE)"
   ]
  },
  {
   "cell_type": "code",
   "execution_count": 5,
   "metadata": {},
   "outputs": [
    {
     "name": "stderr",
     "output_type": "stream",
     "text": [
      "/home/riccardo/timeseries/jupyter/../src/timeseries/timeseries.py:161: UserWarning: t0_gps set to 1126259412.3999023\n",
      "  warnings.warn(f't0_gps set to {kwargs[\"t0_gps\"]}')\n",
      "/home/riccardo/timeseries/jupyter/../src/timeseries/timeseries.py:179: UserWarning: dt set to 0.000244140625\n",
      "  warnings.warn(f'dt set to {kwargs[\"dt\"]}')\n",
      "/home/riccardo/timeseries/jupyter/../src/timeseries/timeseries.py:193: UserWarning: sampling_rate set to 4096\n",
      "  warnings.warn(f'sampling_rate set to {kwargs[\"sampling_rate\"]}')\n",
      "/home/riccardo/timeseries/jupyter/../src/timeseries/core/_caching.py:92: UserWarning: Removed ('-', '-') to free cache space.\n",
      "  warn(f\"Removed {key} to free cache space.\")\n"
     ]
    },
    {
     "name": "stdout",
     "output_type": "stream",
     "text": [
      "dict_keys([('GW150914-v2', 'L1'), ('GW150914-v2', 'H1'), ('GW150914-v3', 'L1'), ('GW150914-v3', 'H1'), ('GW150914-v1', 'L1'), ('GW150914-v1', 'H1')])\n",
      "╒══════════════╤═══════════════╤══════════════════════════╤════════════════╤══════════╤══════════════╕\n",
      "│ event name   │ detector id   │ data type                │ duration [s]   │ size     │ % of cache   │\n",
      "╞══════════════╪═══════════════╪══════════════════════════╪════════════════╪══════════╪══════════════╡\n",
      "│ GW150914-v2  │ L1            │ [numpy.ndarray<float64>] │ 1.0e+02        │ 6.25 MB  │ 15.63 %      │\n",
      "├──────────────┼───────────────┼──────────────────────────┼────────────────┼──────────┼──────────────┤\n",
      "│ GW150914-v2  │ H1            │ [numpy.ndarray<float64>] │ 1.0e+02        │ 6.25 MB  │ 15.63 %      │\n",
      "├──────────────┼───────────────┼──────────────────────────┼────────────────┼──────────┼──────────────┤\n",
      "│ GW150914-v1  │ H1            │ [numpy.ndarray<float64>] │ 1.0e+02        │ 6.25 MB  │ 15.63 %      │\n",
      "├──────────────┼───────────────┼──────────────────────────┼────────────────┼──────────┼──────────────┤\n",
      "│ GW150914-v3  │ H1            │ [numpy.ndarray<float64>] │ 1.0e+02        │ 6.25 MB  │ 15.63 %      │\n",
      "├──────────────┼───────────────┼──────────────────────────┼────────────────┼──────────┼──────────────┤\n",
      "│ GW150914-v1  │ L1            │ [numpy.ndarray<float64>] │ 1.0e+02        │ 6.25 MB  │ 15.63 %      │\n",
      "├──────────────┼───────────────┼──────────────────────────┼────────────────┼──────────┼──────────────┤\n",
      "│ GW150914-v3  │ L1            │ [numpy.ndarray<float64>] │ 1.0e+02        │ 6.25 MB  │ 15.63 %      │\n",
      "├──────────────┼───────────────┼──────────────────────────┼────────────────┼──────────┼──────────────┤\n",
      "│              │               │                          │ Tot            │ 37.50 MB │ 93.75 %      │\n",
      "╘══════════════╧═══════════════╧══════════════════════════╧════════════════╧══════════╧══════════════╛\n"
     ]
    }
   ],
   "source": [
    "res = timeseries.TimeSeries.fetch_event(\n",
    "    [\"GW150914-v2\", \"GW150914-v3\", \"GW150914-v1\"],\n",
    "    [\"L1\", \"H1\"],\n",
    "    # verbose=True,\n",
    "    duration=100.0,\n",
    ")\n",
    "print(res.keys())\n",
    "print(timeseries.TimeSeries._DATA_CACHE)"
   ]
  },
  {
   "cell_type": "code",
   "execution_count": 6,
   "metadata": {},
   "outputs": [],
   "source": [
    "# cropped = ser.crop(70, 200)\n",
    "# cropped.fft_values\n",
    "# cropped.fft_frequencies\n",
    "# cropped"
   ]
  }
 ],
 "metadata": {
  "kernelspec": {
   "display_name": "ts-vnv",
   "language": "python",
   "name": "python3"
  },
  "language_info": {
   "codemirror_mode": {
    "name": "ipython",
    "version": 3
   },
   "file_extension": ".py",
   "mimetype": "text/x-python",
   "name": "python",
   "nbconvert_exporter": "python",
   "pygments_lexer": "ipython3",
   "version": "3.11.5"
  }
 },
 "nbformat": 4,
 "nbformat_minor": 2
}
