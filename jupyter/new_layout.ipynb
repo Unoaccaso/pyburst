{
 "cells": [
  {
   "cell_type": "code",
   "execution_count": 1,
   "metadata": {},
   "outputs": [],
   "source": [
    "import sys\n",
    "\n",
    "sys.path.insert(0, \"../src/\")"
   ]
  },
  {
   "cell_type": "code",
   "execution_count": 2,
   "metadata": {},
   "outputs": [
    {
     "data": {
      "text/plain": [
       "<module 'timeserie' from '/home/riccardo/timeseries/jupyter/../src/timeserie/__init__.py'>"
      ]
     },
     "execution_count": 2,
     "metadata": {},
     "output_type": "execute_result"
    }
   ],
   "source": [
    "import timeserie\n",
    "import importlib\n",
    "\n",
    "importlib.reload(timeserie)"
   ]
  },
  {
   "cell_type": "code",
   "execution_count": 3,
   "metadata": {},
   "outputs": [
    {
     "name": "stderr",
     "output_type": "stream",
     "text": [
      "/home/riccardo/timeseries/jupyter/../src/timeserie/convert.py:119: UserWarning: dt set to 0.000244140625\n",
      "  warnings.warn(f'dt set to {kwargs[\"dt\"]}')\n",
      "/home/riccardo/timeseries/jupyter/../src/timeserie/convert.py:125: UserWarning: The time array will not include the last element: [start time, end time).\n",
      "This is to avoid superprosition of data and repetition.\n",
      "So the actual duration is 1999.999755859375\n",
      "  warnings.warn(\n",
      "/home/riccardo/timeseries/jupyter/../src/timeserie/core/baseserie.py:182: UserWarning: reference_time_gps set to 0.0\n",
      "  warnings.warn(f\"reference_time_gps set to {self.t0_gps}\")\n"
     ]
    }
   ],
   "source": [
    "sampling_rate = 4096\n",
    "duration = 2_000.0\n",
    "import numpy\n",
    "\n",
    "ser = timeserie.from_array(\n",
    "    values=numpy.random.normal(\n",
    "        0,\n",
    "        1,\n",
    "        int(sampling_rate * duration - 1),\n",
    "    ).astype(numpy.float32),\n",
    "    # gps_times= numpy.arange(0, 100 + 1e-5, 1e-5),\n",
    "    segment_name=\"array demo\",\n",
    "    # detector_id=\"-\",\n",
    "    # dt = 1e-5,\n",
    "    sampling_rate=sampling_rate,\n",
    "    t0_gps=0.0,\n",
    "    duration=duration,\n",
    ")"
   ]
  },
  {
   "cell_type": "code",
   "execution_count": 4,
   "metadata": {},
   "outputs": [
    {
     "name": "stdout",
     "output_type": "stream",
     "text": [
      "╒══════════════╤═══════════════╤══════════════════════════╤════════════════╤══════════╤══════════════╕\n",
      "│ event name   │ detector id   │ data type                │ duration [s]   │ size     │ % of cache   │\n",
      "╞══════════════╪═══════════════╪══════════════════════════╪════════════════╪══════════╪══════════════╡\n",
      "│ array demo   │ -             │ [numpy.ndarray<float32>] │ 2.0e+03        │ 31.25 MB │ 3.13 %       │\n",
      "├──────────────┼───────────────┼──────────────────────────┼────────────────┼──────────┼──────────────┤\n",
      "│              │               │                          │ Tot            │ 31.25 MB │ 3.13 %       │\n",
      "╘══════════════╧═══════════════╧══════════════════════════╧════════════════╧══════════╧══════════════╛\n"
     ]
    }
   ],
   "source": [
    "print(timeserie.CACHE)"
   ]
  },
  {
   "cell_type": "code",
   "execution_count": 5,
   "metadata": {},
   "outputs": [
    {
     "name": "stderr",
     "output_type": "stream",
     "text": [
      "/home/riccardo/timeseries/jupyter/../src/timeserie/convert.py:149: UserWarning: t0_gps set to 1126259457.3999023\n",
      "  warnings.warn(f't0_gps set to {kwargs[\"t0_gps\"]}')\n",
      "/home/riccardo/timeseries/jupyter/../src/timeserie/convert.py:167: UserWarning: dt set to 0.000244140625\n",
      "  warnings.warn(f'dt set to {kwargs[\"dt\"]}')\n",
      "/home/riccardo/timeseries/jupyter/../src/timeserie/convert.py:181: UserWarning: sampling_rate set to 4096\n",
      "  warnings.warn(f'sampling_rate set to {kwargs[\"sampling_rate\"]}')\n"
     ]
    },
    {
     "name": "stdout",
     "output_type": "stream",
     "text": [
      "╒══════════════╤═══════════════╤══════════════════════════╤════════════════╤═══════════╤══════════════╕\n",
      "│ event name   │ detector id   │ data type                │ duration [s]   │ size      │ % of cache   │\n",
      "╞══════════════╪═══════════════╪══════════════════════════╪════════════════╪═══════════╪══════════════╡\n",
      "│ array demo   │ -             │ [numpy.ndarray<float32>] │ 2.0e+03        │ 31.25 MB  │ 3.13 %       │\n",
      "├──────────────┼───────────────┼──────────────────────────┼────────────────┼───────────┼──────────────┤\n",
      "│ GW150914-v2  │ H1            │ [numpy.ndarray<float64>] │ 1.0e+01        │ 640.36 kB │ 0.06 %       │\n",
      "├──────────────┼───────────────┼──────────────────────────┼────────────────┼───────────┼──────────────┤\n",
      "│ GW150914-v1  │ L1            │ [numpy.ndarray<float64>] │ 1.0e+01        │ 640.36 kB │ 0.06 %       │\n",
      "├──────────────┼───────────────┼──────────────────────────┼────────────────┼───────────┼──────────────┤\n",
      "│ GW150914-v3  │ L1            │ [numpy.ndarray<float64>] │ 1.0e+01        │ 640.36 kB │ 0.06 %       │\n",
      "├──────────────┼───────────────┼──────────────────────────┼────────────────┼───────────┼──────────────┤\n",
      "│ GW150914-v2  │ L1            │ [numpy.ndarray<float64>] │ 1.0e+01        │ 640.36 kB │ 0.06 %       │\n",
      "├──────────────┼───────────────┼──────────────────────────┼────────────────┼───────────┼──────────────┤\n",
      "│ GW150914-v1  │ H1            │ [numpy.ndarray<float64>] │ 1.0e+01        │ 640.36 kB │ 0.06 %       │\n",
      "├──────────────┼───────────────┼──────────────────────────┼────────────────┼───────────┼──────────────┤\n",
      "│ GW150914-v3  │ H1            │ [numpy.ndarray<float64>] │ 1.0e+01        │ 640.36 kB │ 0.06 %       │\n",
      "├──────────────┼───────────────┼──────────────────────────┼────────────────┼───────────┼──────────────┤\n",
      "│              │               │                          │ Tot            │ 35.00 MB  │ 3.50 %       │\n",
      "╘══════════════╧═══════════════╧══════════════════════════╧════════════════╧═══════════╧══════════════╛\n"
     ]
    }
   ],
   "source": [
    "res = timeserie.fetch_by_name(\n",
    "    [\"GW150914-v2\", \"GW150914-v3\", \"GW150914-v1\"],\n",
    "    [\"L1\", \"H1\"],\n",
    "    # verbose=True,\n",
    "    duration=10.0,\n",
    ")\n",
    "print(timeserie.CACHE)"
   ]
  },
  {
   "cell_type": "code",
   "execution_count": 6,
   "metadata": {},
   "outputs": [
    {
     "data": {
      "text/plain": [
       "\n",
       "Time serie content:\n",
       "\n",
       "╒═════════════════════╤═══════════════════════════════════════════════════════════╤════════════╤══════════╕\n",
       "│ name                │                          content                          │   shape    │     size │\n",
       "╞═════════════════════╪═══════════════════════════════════════════════════════════╪════════════╪══════════╡\n",
       "│ values              │ [ 0.1918577 , -0.41386798, -1.6791273 , ...,  0.4782201 , │ (8191999,) │ 31.25 MB │\n",
       "│ [ndarray<float32>]  │                     1.2109249 , -0.89677185]              │            │          │\n",
       "├─────────────────────┼───────────────────────────────────────────────────────────┼────────────┼──────────┤\n",
       "│ gps_times           │                           -----                           │   -----    │      0 B │\n",
       "│ [not allocated yet] │                                                           │            │          │\n",
       "├─────────────────────┼───────────────────────────────────────────────────────────┼────────────┼──────────┤\n",
       "│ fft_frequencies     │                           -----                           │   -----    │      0 B │\n",
       "│ [not allocated yet] │                                                           │            │          │\n",
       "├─────────────────────┼───────────────────────────────────────────────────────────┼────────────┼──────────┤\n",
       "│ fft_values          │                           -----                           │   -----    │      0 B │\n",
       "│ [not allocated yet] │                                                           │            │          │\n",
       "╘═════════════════════╧═══════════════════════════════════════════════════════════╧════════════╧══════════╛\n",
       "\n",
       "Time serie attributes:\n",
       "\n",
       "+--------------------+-------------------+---------+--------+\n",
       "| name               | value             | type    |   size |\n",
       "+====================+===================+=========+========+\n",
       "| detector_id        | -                 | str     |   50 B |\n",
       "| detector_name      | -                 | str     |   50 B |\n",
       "| dt                 | 0.000244140625    | float64 |    8 B |\n",
       "| duration           | 1999.999755859375 | float64 |    8 B |\n",
       "| nbytes             | 32768347          | int32   |    4 B |\n",
       "| reference_time_gps | 0.0               | float64 |    8 B |\n",
       "| sampling_rate      | 4096              | int64   |    8 B |\n",
       "| segment_name       | array demo        | str     |   59 B |\n",
       "| t0_gps             | 0.0               | float64 |    8 B |\n",
       "+--------------------+-------------------+---------+--------+"
      ]
     },
     "execution_count": 6,
     "metadata": {},
     "output_type": "execute_result"
    }
   ],
   "source": [
    "serie = timeserie.CACHE.get_cached_data('array demo', '-')\n",
    "serie"
   ]
  },
  {
   "cell_type": "code",
   "execution_count": 8,
   "metadata": {},
   "outputs": [],
   "source": [
    "series = timeserie.CACHE.get_cached_data(\n",
    "    detector_ids=\"L1\", segment_names=\"GW150914-v3\"\n",
    ")\n",
    "series.save(\"../saves\", fmt = \"zarr\")"
   ]
  },
  {
   "cell_type": "code",
   "execution_count": 10,
   "metadata": {},
   "outputs": [],
   "source": [
    "timeserie.from_file([\"../saves/GW150914-v3/L1\"])"
   ]
  }
 ],
 "metadata": {
  "kernelspec": {
   "display_name": "ts-vnv",
   "language": "python",
   "name": "python3"
  },
  "language_info": {
   "codemirror_mode": {
    "name": "ipython",
    "version": 3
   },
   "file_extension": ".py",
   "mimetype": "text/x-python",
   "name": "python",
   "nbconvert_exporter": "python",
   "pygments_lexer": "ipython3",
   "version": "3.11.5"
  }
 },
 "nbformat": 4,
 "nbformat_minor": 2
}
