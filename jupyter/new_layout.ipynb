{
 "cells": [
  {
   "cell_type": "code",
   "execution_count": 1,
   "metadata": {},
   "outputs": [],
   "source": [
    "import sys\n",
    "\n",
    "sys.path.insert(0, \"../src/\")"
   ]
  },
  {
   "cell_type": "code",
   "execution_count": 2,
   "metadata": {},
   "outputs": [
    {
     "name": "stderr",
     "output_type": "stream",
     "text": [
      "/home/riccardo/timeseries/jupyter/../src/timeseries/timeseries.py:117: UserWarning: dt set to 0.000244140625\n",
      "  warnings.warn(f'dt set to {kwargs[\"dt\"]}')\n",
      "/home/riccardo/timeseries/jupyter/../src/timeseries/timeseries.py:123: UserWarning: The time array will not include the last element: [start time, end time).\n",
      "This is to avoid superprosition of data and repetition.\n",
      "So the actual duration is 199.999755859375\n",
      "  warnings.warn(\n",
      "/home/riccardo/timeseries/jupyter/../src/timeseries/core/_ts_base/_ts_base.py:172: UserWarning: reference_time_gps set to 0.0\n",
      "  warnings.warn(f\"reference_time_gps set to {self.t0_gps}\")\n"
     ]
    },
    {
     "data": {
      "text/plain": [
       "Time serie content:\n",
       "\n",
       "╒══════════════════════════╤═════════════════════════════════════════════════════════════════╤═══════════╤═════════╕\n",
       "│ name                     │                             content                             │     shape │    size │\n",
       "╞══════════════════════════╪═════════════════════════════════════════════════════════════════╪═══════════╪═════════╡\n",
       "│ values                   │ array([-0.50490168,  0.26980488,  1.09591127, ...,  0.64790972, │ (819199,) │ 6.25 MB │\n",
       "│ [numpy.ndarray<float64>] │                       -0.10659432,  0.38366287])                │           │         │\n",
       "├──────────────────────────┼─────────────────────────────────────────────────────────────────┼───────────┼─────────┤\n",
       "│ gps times                │   array([0.00000000e+00, 2.44140625e-04, 4.88281250e-04, ...,   │ (819199,) │ 6.25 MB │\n",
       "│ [numpy.ndarray<float64>] │            1.99999023e+02, 1.99999268e+02, 1.99999512e+02])     │           │         │\n",
       "╘══════════════════════════╧═════════════════════════════════════════════════════════════════╧═══════════╧═════════╛\n",
       "\n",
       "Time serie attributes:\n",
       "\n",
       "+--------------------+----------------------+---------+--------+\n",
       "| name               | value                | type    |   size |\n",
       "+====================+======================+=========+========+\n",
       "| segment name       | GW150914-v3          | str     |   60 B |\n",
       "| detector id        | L1                   | str     |   51 B |\n",
       "| detector name      | Ligo Livingston (L1) | str     |   69 B |\n",
       "| dt                 | 0.000244140625       | float64 |    8 B |\n",
       "| sampling rate      | 4096                 | int64   |    8 B |\n",
       "| t0 gps             | 0.0                  | float64 |    8 B |\n",
       "| duration           | 199.999755859375     | float64 |    8 B |\n",
       "| reference time gps | 0.0                  | float64 |    8 B |\n",
       "+--------------------+----------------------+---------+--------+"
      ]
     },
     "execution_count": 2,
     "metadata": {},
     "output_type": "execute_result"
    }
   ],
   "source": [
    "import timeseries\n",
    "import importlib\n",
    "\n",
    "importlib.reload(timeseries)\n",
    "from timeseries import TimeSeries\n",
    "import cupy\n",
    "\n",
    "sampling_rate = 4096\n",
    "duration = 200.\n",
    "import numpy\n",
    "\n",
    "ser = TimeSeries.from_array(\n",
    "    values=numpy.random.normal(0, 1, int(sampling_rate * duration - 1)),\n",
    "    # gps_times= numpy.arange(0, 100 + 1e-5, 1e-5),\n",
    "    segment_name=\"GW150914-v3\",\n",
    "    detector_id=\"L1\",\n",
    "    # dt = 1e-5,\n",
    "    sampling_rate=sampling_rate,\n",
    "    t0_gps=0.0,\n",
    "    duration=duration,\n",
    ")\n",
    "\n",
    "ser.gps_times\n",
    "ser"
   ]
  },
  {
   "cell_type": "code",
   "execution_count": 5,
   "metadata": {},
   "outputs": [
    {
     "data": {
      "text/plain": [
       "Time serie content:\n",
       "\n",
       "╒══════════════════════════╤═════════════════════════════════════════════════════════════════════╤═══════════╤═════════╕\n",
       "│ name                     │                               content                               │     shape │    size │\n",
       "╞══════════════════════════╪═════════════════════════════════════════════════════════════════════╪═══════════╪═════════╡\n",
       "│ values                   │   array([-1.10866092, -0.64074409, -0.20173349, ..., -0.88530716,   │ (409601,) │ 3.13 MB │\n",
       "│ [numpy.ndarray<float64>] │                          1.2976138 , -1.21175614])                  │           │         │\n",
       "├──────────────────────────┼─────────────────────────────────────────────────────────────────────┼───────────┼─────────┤\n",
       "│ gps times                │ array([ 50.        ,  50.00024414,  50.00048828, ..., 149.99951172, │ (409601,) │ 3.13 MB │\n",
       "│ [numpy.ndarray<float64>] │                        149.99975586, 150.        ])                 │           │         │\n",
       "╘══════════════════════════╧═════════════════════════════════════════════════════════════════════╧═══════════╧═════════╛\n",
       "\n",
       "Time serie attributes:\n",
       "\n",
       "+--------------------+----------------------+---------+--------+\n",
       "| name               | value                | type    |   size |\n",
       "+====================+======================+=========+========+\n",
       "| segment name       | GW150914-v3          | str     |   60 B |\n",
       "| detector id        | L1                   | str     |   51 B |\n",
       "| detector name      | Ligo Livingston (L1) | str     |   69 B |\n",
       "| dt                 | 0.000244140625       | float64 |    8 B |\n",
       "| sampling rate      | 4096                 | int64   |    8 B |\n",
       "| t0 gps             | 50.0                 | float64 |    8 B |\n",
       "| duration           | 100.0                | float64 |    8 B |\n",
       "| reference time gps | 0.0                  | float64 |    8 B |\n",
       "+--------------------+----------------------+---------+--------+"
      ]
     },
     "execution_count": 5,
     "metadata": {},
     "output_type": "execute_result"
    }
   ],
   "source": [
    "cropped = ser.crop(50, 150)\n",
    "cropped\n"
   ]
  }
 ],
 "metadata": {
  "kernelspec": {
   "display_name": "ts-vnv",
   "language": "python",
   "name": "python3"
  },
  "language_info": {
   "codemirror_mode": {
    "name": "ipython",
    "version": 3
   },
   "file_extension": ".py",
   "mimetype": "text/x-python",
   "name": "python",
   "nbconvert_exporter": "python",
   "pygments_lexer": "ipython3",
   "version": "3.11.5"
  }
 },
 "nbformat": 4,
 "nbformat_minor": 2
}
