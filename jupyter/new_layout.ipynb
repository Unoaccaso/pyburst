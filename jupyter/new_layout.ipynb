{
 "cells": [
  {
   "cell_type": "code",
   "execution_count": 1,
   "metadata": {},
   "outputs": [],
   "source": [
    "import sys\n",
    "\n",
    "sys.path.insert(0, \"../src/\")"
   ]
  },
  {
   "cell_type": "code",
   "execution_count": 2,
   "metadata": {},
   "outputs": [
    {
     "data": {
      "text/plain": [
       "<module 'timeserie' from '/home/riccardo/timeseries/jupyter/../src/timeserie/__init__.py'>"
      ]
     },
     "execution_count": 2,
     "metadata": {},
     "output_type": "execute_result"
    }
   ],
   "source": [
    "import timeserie\n",
    "import importlib\n",
    "\n",
    "importlib.reload(timeserie)"
   ]
  },
  {
   "cell_type": "code",
   "execution_count": 3,
   "metadata": {},
   "outputs": [
    {
     "data": {
      "text/plain": [
       "<xarray.backends.zarr.ZarrStore at 0x7f1d45660940>"
      ]
     },
     "execution_count": 3,
     "metadata": {},
     "output_type": "execute_result"
    }
   ],
   "source": [
    "import xarray\n",
    "\n",
    "xarray.DataArray().to_zarr()"
   ]
  },
  {
   "cell_type": "code",
   "execution_count": 4,
   "metadata": {},
   "outputs": [
    {
     "name": "stderr",
     "output_type": "stream",
     "text": [
      "/home/riccardo/timeseries/jupyter/../src/timeserie/convert.py:119: UserWarning: dt set to 0.000244140625\n",
      "  warnings.warn(f'dt set to {kwargs[\"dt\"]}')\n",
      "/home/riccardo/timeseries/jupyter/../src/timeserie/convert.py:125: UserWarning: The time array will not include the last element: [start time, end time).\n",
      "This is to avoid superprosition of data and repetition.\n",
      "So the actual duration is 1999.999755859375\n",
      "  warnings.warn(\n",
      "/home/riccardo/timeseries/jupyter/../src/timeserie/core/baseserie.py:181: UserWarning: reference_time_gps set to 0.0\n",
      "  warnings.warn(f\"reference_time_gps set to {self.t0_gps}\")\n"
     ]
    }
   ],
   "source": [
    "sampling_rate = 4096\n",
    "duration = 2_000.0\n",
    "import numpy\n",
    "\n",
    "ser = timeserie.from_array(\n",
    "    values=numpy.random.normal(\n",
    "        0,\n",
    "        1,\n",
    "        int(sampling_rate * duration - 1),\n",
    "    ).astype(numpy.float32),\n",
    "    # gps_times= numpy.arange(0, 100 + 1e-5, 1e-5),\n",
    "    segment_name=\"array demo\",\n",
    "    # detector_id=\"-\",\n",
    "    # dt = 1e-5,\n",
    "    sampling_rate=sampling_rate,\n",
    "    t0_gps=0.0,\n",
    "    duration=duration,\n",
    ")"
   ]
  },
  {
   "cell_type": "code",
   "execution_count": null,
   "metadata": {},
   "outputs": [],
   "source": [
    "ser"
   ]
  },
  {
   "cell_type": "code",
   "execution_count": 5,
   "metadata": {},
   "outputs": [
    {
     "name": "stdout",
     "output_type": "stream",
     "text": [
      "╒══════════════╤═══════════════╤═════════════╤════════════════╤════════╤══════════════╕\n",
      "│ event name   │ detector id   │ data type   │ duration [s]   │ size   │ % of cache   │\n",
      "╞══════════════╪═══════════════╪═════════════╪════════════════╪════════╪══════════════╡\n",
      "│              │               │             │ Tot            │ 0 B    │ 0.00 %       │\n",
      "╘══════════════╧═══════════════╧═════════════╧════════════════╧════════╧══════════════╛\n"
     ]
    }
   ],
   "source": [
    "print(timeserie.CACHE)"
   ]
  },
  {
   "cell_type": "code",
   "execution_count": 7,
   "metadata": {},
   "outputs": [
    {
     "name": "stderr",
     "output_type": "stream",
     "text": [
      "/home/riccardo/timeseries/jupyter/../src/timeserie/convert.py:149: UserWarning: t0_gps set to 1126259457.3999023\n",
      "  warnings.warn(f't0_gps set to {kwargs[\"t0_gps\"]}')\n",
      "/home/riccardo/timeseries/jupyter/../src/timeserie/convert.py:167: UserWarning: dt set to 0.000244140625\n",
      "  warnings.warn(f'dt set to {kwargs[\"dt\"]}')\n",
      "/home/riccardo/timeseries/jupyter/../src/timeserie/convert.py:181: UserWarning: sampling_rate set to 4096\n",
      "  warnings.warn(f'sampling_rate set to {kwargs[\"sampling_rate\"]}')\n"
     ]
    },
    {
     "name": "stdout",
     "output_type": "stream",
     "text": [
      "╒══════════════╤═══════════════╤═════════════╤════════════════╤════════╤══════════════╕\n",
      "│ event name   │ detector id   │ data type   │ duration [s]   │ size   │ % of cache   │\n",
      "╞══════════════╪═══════════════╪═════════════╪════════════════╪════════╪══════════════╡\n",
      "│              │               │             │ Tot            │ 0 B    │ 0.00 %       │\n",
      "╘══════════════╧═══════════════╧═════════════╧════════════════╧════════╧══════════════╛\n"
     ]
    }
   ],
   "source": [
    "res = timeserie.fetch_by_name(\n",
    "    [\"GW150914-v2\", \"GW150914-v3\", \"GW150914-v1\"],\n",
    "    [\"L1\", \"H1\"],\n",
    "    # verbose=True,\n",
    "    duration=10.0,\n",
    ")\n",
    "print(timeserie.CACHE)"
   ]
  },
  {
   "cell_type": "code",
   "execution_count": 8,
   "metadata": {},
   "outputs": [
    {
     "ename": "KeyError",
     "evalue": "('array demo', '-')",
     "output_type": "error",
     "traceback": [
      "\u001b[0;31m---------------------------------------------------------------------------\u001b[0m",
      "\u001b[0;31mKeyError\u001b[0m                                  Traceback (most recent call last)",
      "Cell \u001b[0;32mIn[8], line 1\u001b[0m\n\u001b[0;32m----> 1\u001b[0m serie \u001b[38;5;241m=\u001b[39m \u001b[43mtimeserie\u001b[49m\u001b[38;5;241;43m.\u001b[39;49m\u001b[43mCACHE\u001b[49m\u001b[38;5;241;43m.\u001b[39;49m\u001b[43mget_cached_data\u001b[49m\u001b[43m(\u001b[49m\u001b[38;5;124;43m'\u001b[39;49m\u001b[38;5;124;43marray demo\u001b[39;49m\u001b[38;5;124;43m'\u001b[39;49m\u001b[43m,\u001b[49m\u001b[43m \u001b[49m\u001b[38;5;124;43m'\u001b[39;49m\u001b[38;5;124;43m-\u001b[39;49m\u001b[38;5;124;43m'\u001b[39;49m\u001b[43m)\u001b[49m\n\u001b[1;32m      2\u001b[0m serie\n",
      "File \u001b[0;32m~/timeseries/jupyter/../src/timeserie/common/_typing.py:225\u001b[0m, in \u001b[0;36mtype_check.<locals>.decorator.<locals>.wrapper\u001b[0;34m(*args, **kwargs)\u001b[0m\n\u001b[1;32m    222\u001b[0m \u001b[38;5;28;01mfor\u001b[39;00m kwarg_name, kwarg \u001b[38;5;129;01min\u001b[39;00m kwargs\u001b[38;5;241m.\u001b[39mitems():\n\u001b[1;32m    223\u001b[0m     _check_arg(kwarg, kwarg_name, var_name_and_type[kwarg_name])\n\u001b[0;32m--> 225\u001b[0m \u001b[38;5;28;01mreturn\u001b[39;00m \u001b[43mfunc\u001b[49m\u001b[43m(\u001b[49m\u001b[38;5;241;43m*\u001b[39;49m\u001b[43margs\u001b[49m\u001b[43m,\u001b[49m\u001b[43m \u001b[49m\u001b[38;5;241;43m*\u001b[39;49m\u001b[38;5;241;43m*\u001b[39;49m\u001b[43mkwargs\u001b[49m\u001b[43m)\u001b[49m\n",
      "File \u001b[0;32m~/timeseries/jupyter/../src/timeserie/caching.py:147\u001b[0m, in \u001b[0;36mLRUCache.get_cached_data\u001b[0;34m(self, segment_names, detector_ids)\u001b[0m\n\u001b[1;32m    145\u001b[0m             out_dict[key] \u001b[38;5;241m=\u001b[39m \u001b[38;5;28mself\u001b[39m[key]\n\u001b[1;32m    146\u001b[0m \u001b[38;5;28;01mif\u001b[39;00m \u001b[38;5;28mlen\u001b[39m(detector_ids) \u001b[38;5;241m==\u001b[39m \u001b[38;5;241m1\u001b[39m \u001b[38;5;129;01mand\u001b[39;00m \u001b[38;5;28mlen\u001b[39m(segment_names) \u001b[38;5;241m==\u001b[39m \u001b[38;5;241m1\u001b[39m:\n\u001b[0;32m--> 147\u001b[0m     \u001b[38;5;28;01mreturn\u001b[39;00m \u001b[43mout_dict\u001b[49m\u001b[43m[\u001b[49m\u001b[43mkey\u001b[49m\u001b[43m]\u001b[49m\n\u001b[1;32m    148\u001b[0m \u001b[38;5;28;01melse\u001b[39;00m:\n\u001b[1;32m    149\u001b[0m     \u001b[38;5;28;01mreturn\u001b[39;00m out_dict\n",
      "\u001b[0;31mKeyError\u001b[0m: ('array demo', '-')"
     ]
    }
   ],
   "source": [
    "serie = timeserie.CACHE.get_cached_data('array demo', '-')\n",
    "serie"
   ]
  },
  {
   "cell_type": "code",
   "execution_count": null,
   "metadata": {},
   "outputs": [
    {
     "ename": "NameError",
     "evalue": "name 'timeseries' is not defined",
     "output_type": "error",
     "traceback": [
      "\u001b[0;31m---------------------------------------------------------------------------\u001b[0m",
      "\u001b[0;31mNameError\u001b[0m                                 Traceback (most recent call last)",
      "Cell \u001b[0;32mIn[7], line 1\u001b[0m\n\u001b[0;32m----> 1\u001b[0m series \u001b[38;5;241m=\u001b[39m \u001b[43mtimeseries\u001b[49m\u001b[38;5;241m.\u001b[39mTimeSeries\u001b[38;5;241m.\u001b[39mget_cached_data(\n\u001b[1;32m      2\u001b[0m     detector_ids\u001b[38;5;241m=\u001b[39m\u001b[38;5;124m\"\u001b[39m\u001b[38;5;124mL1\u001b[39m\u001b[38;5;124m\"\u001b[39m, segment_names\u001b[38;5;241m=\u001b[39m\u001b[38;5;124m\"\u001b[39m\u001b[38;5;124mGW150914-v3\u001b[39m\u001b[38;5;124m\"\u001b[39m\n\u001b[1;32m      3\u001b[0m )\n\u001b[1;32m      4\u001b[0m series\u001b[38;5;241m.\u001b[39msave(\u001b[38;5;124m\"\u001b[39m\u001b[38;5;124m../saves\u001b[39m\u001b[38;5;124m\"\u001b[39m, fmt \u001b[38;5;241m=\u001b[39m \u001b[38;5;124m\"\u001b[39m\u001b[38;5;124mzarr\u001b[39m\u001b[38;5;124m\"\u001b[39m)\n",
      "\u001b[0;31mNameError\u001b[0m: name 'timeseries' is not defined"
     ]
    }
   ],
   "source": [
    "series = timeserie.CACHE.get_cached_data(\n",
    "    detector_ids=\"L1\", segment_names=\"GW150914-v3\"\n",
    ")\n",
    "series.save(\"../saves\", fmt = \"zarr\")"
   ]
  },
  {
   "cell_type": "code",
   "execution_count": null,
   "metadata": {},
   "outputs": [
    {
     "name": "stdout",
     "output_type": "stream",
     "text": [
      "[-1.58278282e-18 -1.61982706e-18 -1.62617838e-18 ...\n",
      " -1.01219417e-18 -1.00233502e-18 -9.80062946e-19]\n"
     ]
    },
    {
     "name": "stderr",
     "output_type": "stream",
     "text": [
      "/home/riccardo/timeseries/jupyter/../src/timeseries/timeseries.py:195: UserWarning: duration set to 10.0\n",
      "  warnings.warn(f'duration set to {kwargs[\"duration\"]}')\n",
      "/home/riccardo/timeseries/jupyter/../src/timeseries/core/ts_base/ts_base.py:174: UserWarning: reference_time_gps set to 1126259457.3999023\n",
      "  warnings.warn(f\"reference_time_gps set to {self.t0_gps}\")\n"
     ]
    }
   ],
   "source": [
    "timeserie.from_file([\"../saves/GW150914-v3/L1\"])"
   ]
  }
 ],
 "metadata": {
  "kernelspec": {
   "display_name": "ts-vnv",
   "language": "python",
   "name": "python3"
  },
  "language_info": {
   "codemirror_mode": {
    "name": "ipython",
    "version": 3
   },
   "file_extension": ".py",
   "mimetype": "text/x-python",
   "name": "python",
   "nbconvert_exporter": "python",
   "pygments_lexer": "ipython3",
   "version": "3.11.5"
  }
 },
 "nbformat": 4,
 "nbformat_minor": 2
}
