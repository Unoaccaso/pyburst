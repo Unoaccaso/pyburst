{
 "cells": [
  {
   "cell_type": "code",
   "execution_count": 20,
   "metadata": {},
   "outputs": [],
   "source": [
    "import sys\n",
    "\n",
    "sys.path.insert(0, \"../src/\")"
   ]
  },
  {
   "cell_type": "code",
   "execution_count": 21,
   "metadata": {},
   "outputs": [],
   "source": [
    "import timeseries\n",
    "import importlib\n",
    "\n",
    "importlib.reload(timeseries)\n",
    "from timeseries import TimeSeries"
   ]
  },
  {
   "cell_type": "code",
   "execution_count": 22,
   "metadata": {},
   "outputs": [],
   "source": [
    "sampling_rate = 4096\n",
    "duration = 2_000.0\n",
    "import numpy\n",
    "\n",
    "ser = TimeSeries.from_array(\n",
    "    values=numpy.random.normal(\n",
    "        0,\n",
    "        1,\n",
    "        int(sampling_rate * duration - 1),\n",
    "    ).astype(numpy.float32),\n",
    "    # gps_times= numpy.arange(0, 100 + 1e-5, 1e-5),\n",
    "    segment_name=\"array demo\",\n",
    "    # detector_id=\"-\",\n",
    "    # dt = 1e-5,\n",
    "    sampling_rate=sampling_rate,\n",
    "    t0_gps=0.0,\n",
    "    duration=duration,\n",
    ")"
   ]
  },
  {
   "cell_type": "code",
   "execution_count": 23,
   "metadata": {},
   "outputs": [
    {
     "name": "stdout",
     "output_type": "stream",
     "text": [
      "╒══════════════╤═══════════════╤══════════════════════════╤════════════════╤═══════════╤══════════════╕\n",
      "│ event name   │ detector id   │ data type                │ duration [s]   │ size      │ % of cache   │\n",
      "╞══════════════╪═══════════════╪══════════════════════════╪════════════════╪═══════════╪══════════════╡\n",
      "│ array demo   │ -             │ [numpy.ndarray<float32>] │ 2.0e+03        │ 31.25 MB  │ 3.13 %       │\n",
      "├──────────────┼───────────────┼──────────────────────────┼────────────────┼───────────┼──────────────┤\n",
      "│ GW150914-v2  │ L1            │ [numpy.ndarray<float64>] │ 1.0e+01        │ 640.35 kB │ 0.06 %       │\n",
      "├──────────────┼───────────────┼──────────────────────────┼────────────────┼───────────┼──────────────┤\n",
      "│ GW150914-v2  │ H1            │ [numpy.ndarray<float64>] │ 1.0e+01        │ 640.34 kB │ 0.06 %       │\n",
      "├──────────────┼───────────────┼──────────────────────────┼────────────────┼───────────┼──────────────┤\n",
      "│ GW150914-v3  │ H1            │ [numpy.ndarray<float64>] │ 1.0e+01        │ 640.34 kB │ 0.06 %       │\n",
      "├──────────────┼───────────────┼──────────────────────────┼────────────────┼───────────┼──────────────┤\n",
      "│ GW150914-v1  │ L1            │ [numpy.ndarray<float64>] │ 1.0e+01        │ 640.35 kB │ 0.06 %       │\n",
      "├──────────────┼───────────────┼──────────────────────────┼────────────────┼───────────┼──────────────┤\n",
      "│ GW150914-v1  │ H1            │ [numpy.ndarray<float64>] │ 1.0e+01        │ 640.34 kB │ 0.06 %       │\n",
      "├──────────────┼───────────────┼──────────────────────────┼────────────────┼───────────┼──────────────┤\n",
      "│ GW150914-v3  │ L1            │ [numpy.ndarray<float64>] │ 1.0e+01        │ 1.56 MB   │ 0.16 %       │\n",
      "├──────────────┼───────────────┼──────────────────────────┼────────────────┼───────────┼──────────────┤\n",
      "│              │               │                          │ Tot            │ 35.94 MB  │ 3.59 %       │\n",
      "╘══════════════╧═══════════════╧══════════════════════════╧════════════════╧═══════════╧══════════════╛\n"
     ]
    }
   ],
   "source": [
    "print(timeseries.TimeSeries._DATA_CACHE)"
   ]
  },
  {
   "cell_type": "code",
   "execution_count": 24,
   "metadata": {},
   "outputs": [
    {
     "name": "stdout",
     "output_type": "stream",
     "text": [
      "dict_keys([('GW150914-v2', 'L1'), ('GW150914-v2', 'H1'), ('GW150914-v3', 'L1'), ('GW150914-v3', 'H1'), ('GW150914-v1', 'L1'), ('GW150914-v1', 'H1')])\n",
      "╒══════════════╤═══════════════╤══════════════════════════╤════════════════╤═══════════╤══════════════╕\n",
      "│ event name   │ detector id   │ data type                │ duration [s]   │ size      │ % of cache   │\n",
      "╞══════════════╪═══════════════╪══════════════════════════╪════════════════╪═══════════╪══════════════╡\n",
      "│ array demo   │ -             │ [numpy.ndarray<float32>] │ 2.0e+03        │ 31.25 MB  │ 3.13 %       │\n",
      "├──────────────┼───────────────┼──────────────────────────┼────────────────┼───────────┼──────────────┤\n",
      "│ GW150914-v2  │ L1            │ [numpy.ndarray<float64>] │ 1.0e+01        │ 640.35 kB │ 0.06 %       │\n",
      "├──────────────┼───────────────┼──────────────────────────┼────────────────┼───────────┼──────────────┤\n",
      "│ GW150914-v2  │ H1            │ [numpy.ndarray<float64>] │ 1.0e+01        │ 640.34 kB │ 0.06 %       │\n",
      "├──────────────┼───────────────┼──────────────────────────┼────────────────┼───────────┼──────────────┤\n",
      "│ GW150914-v3  │ L1            │ [numpy.ndarray<float64>] │ 1.0e+01        │ 1.56 MB   │ 0.16 %       │\n",
      "├──────────────┼───────────────┼──────────────────────────┼────────────────┼───────────┼──────────────┤\n",
      "│ GW150914-v3  │ H1            │ [numpy.ndarray<float64>] │ 1.0e+01        │ 640.34 kB │ 0.06 %       │\n",
      "├──────────────┼───────────────┼──────────────────────────┼────────────────┼───────────┼──────────────┤\n",
      "│ GW150914-v1  │ L1            │ [numpy.ndarray<float64>] │ 1.0e+01        │ 640.35 kB │ 0.06 %       │\n",
      "├──────────────┼───────────────┼──────────────────────────┼────────────────┼───────────┼──────────────┤\n",
      "│ GW150914-v1  │ H1            │ [numpy.ndarray<float64>] │ 1.0e+01        │ 640.34 kB │ 0.06 %       │\n",
      "├──────────────┼───────────────┼──────────────────────────┼────────────────┼───────────┼──────────────┤\n",
      "│              │               │                          │ Tot            │ 35.94 MB  │ 3.59 %       │\n",
      "╘══════════════╧═══════════════╧══════════════════════════╧════════════════╧═══════════╧══════════════╛\n"
     ]
    }
   ],
   "source": [
    "res = timeseries.TimeSeries.fetch_event(\n",
    "    [\"GW150914-v2\", \"GW150914-v3\", \"GW150914-v1\"],\n",
    "    [\"L1\", \"H1\"],\n",
    "    # verbose=True,\n",
    "    duration=10.0,\n",
    ")\n",
    "print(res.keys())\n",
    "print(timeseries.TimeSeries._DATA_CACHE)"
   ]
  },
  {
   "cell_type": "code",
   "execution_count": 25,
   "metadata": {},
   "outputs": [],
   "source": [
    "series = timeseries.TimeSeries.get_cached_data(detector_ids=\"L1\", segment_names=\"GW150914-v3\")"
   ]
  },
  {
   "cell_type": "code",
   "execution_count": 26,
   "metadata": {},
   "outputs": [],
   "source": [
    "series.save(\"./saves\", fmt = \"zarr\")"
   ]
  }
 ],
 "metadata": {
  "kernelspec": {
   "display_name": "ts-vnv",
   "language": "python",
   "name": "python3"
  },
  "language_info": {
   "codemirror_mode": {
    "name": "ipython",
    "version": 3
   },
   "file_extension": ".py",
   "mimetype": "text/x-python",
   "name": "python",
   "nbconvert_exporter": "python",
   "pygments_lexer": "ipython3",
   "version": "3.11.5"
  }
 },
 "nbformat": 4,
 "nbformat_minor": 2
}
