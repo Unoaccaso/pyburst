{
 "cells": [
  {
   "cell_type": "code",
   "execution_count": 3,
   "metadata": {},
   "outputs": [],
   "source": [
    "import sys\n",
    "\n",
    "sys.path.insert(0, \"../src/\")"
   ]
  },
  {
   "cell_type": "code",
   "execution_count": 4,
   "metadata": {},
   "outputs": [
    {
     "name": "stderr",
     "output_type": "stream",
     "text": [
      "/home/riccardo/timeseries/jupyter/../src/timeseries/timeseries.py:117: UserWarning: dt set to 0.000244140625\n",
      "  warnings.warn(f'dt set to {kwargs[\"dt\"]}')\n",
      "/home/riccardo/timeseries/jupyter/../src/timeseries/timeseries.py:123: UserWarning: The time array will not include the last element: [start time, end time).\n",
      "This is to avoid superprosition of data and repetition.\n",
      "So the actual duration is 1999.999755859375\n",
      "  warnings.warn(\n",
      "/home/riccardo/timeseries/jupyter/../src/timeseries/core/_ts_base/_ts_base.py:172: UserWarning: reference_time_gps set to 0.0\n",
      "  warnings.warn(f\"reference_time_gps set to {self.t0_gps}\")\n"
     ]
    },
    {
     "data": {
      "text/plain": [
       "Time serie content:\n",
       "\n",
       "╒══════════════════════════╤═════════════════════════════════════════════════════════════════╤════════════╤══════════╕\n",
       "│ name                     │                             content                             │   shape    │     size │\n",
       "╞══════════════════════════╪═════════════════════════════════════════════════════════════════╪════════════╪══════════╡\n",
       "│ values                   │ array([-1.9228444 , -0.9626594 , -0.11488972, ...,  1.913203  , │ (8191999,) │ 31.25 MB │\n",
       "│ [numpy.ndarray<float32>] │                0.36996347,  0.35567656], dtype=float32)         │            │          │\n",
       "├──────────────────────────┼─────────────────────────────────────────────────────────────────┼────────────┼──────────┤\n",
       "│ gps times                │                            --------                             │  --------  │      0 B │\n",
       "│ [not allocated yet]      │                                                                 │            │          │\n",
       "├──────────────────────────┼─────────────────────────────────────────────────────────────────┼────────────┼──────────┤\n",
       "│ fft values               │                            --------                             │  --------  │      0 B │\n",
       "│ [not allocated yet]      │                                                                 │            │          │\n",
       "├──────────────────────────┼─────────────────────────────────────────────────────────────────┼────────────┼──────────┤\n",
       "│ fft frequencies          │                            --------                             │  --------  │      0 B │\n",
       "│ [not allocated yet]      │                                                                 │            │          │\n",
       "╘══════════════════════════╧═════════════════════════════════════════════════════════════════╧════════════╧══════════╛\n",
       "\n",
       "Time serie attributes:\n",
       "\n",
       "+--------------------+-------------------+---------+--------+\n",
       "| name               | value             | type    |   size |\n",
       "+====================+===================+=========+========+\n",
       "| segment name       | GW150914-v3       | str     |   60 B |\n",
       "| detector id        | V1                | str     |   51 B |\n",
       "| detector name      | Virgo (V1)        | str     |   59 B |\n",
       "| dt                 | 0.000244140625    | float64 |    8 B |\n",
       "| sampling rate      | 4096              | int64   |    8 B |\n",
       "| t0 gps             | 0.0               | float64 |    8 B |\n",
       "| duration           | 1999.999755859375 | float64 |    8 B |\n",
       "| reference time gps | 0.0               | float64 |    8 B |\n",
       "+--------------------+-------------------+---------+--------+"
      ]
     },
     "execution_count": 4,
     "metadata": {},
     "output_type": "execute_result"
    }
   ],
   "source": [
    "import timeseries\n",
    "import importlib\n",
    "\n",
    "importlib.reload(timeseries)\n",
    "from timeseries import TimeSeries\n",
    "import cupy\n",
    "\n",
    "sampling_rate = 4096\n",
    "duration = 2_000.0\n",
    "import numpy\n",
    "\n",
    "ser = TimeSeries.from_array(\n",
    "    values=numpy.random.normal(\n",
    "        0,\n",
    "        1,\n",
    "        int(sampling_rate * duration - 1),\n",
    "    ).astype(numpy.float32),\n",
    "    # gps_times= numpy.arange(0, 100 + 1e-5, 1e-5),\n",
    "    segment_name=\"GW150914-v3\",\n",
    "    detector_id=\"V1\",\n",
    "    # dt = 1e-5,\n",
    "    sampling_rate=sampling_rate,\n",
    "    t0_gps=0.0,\n",
    "    duration=duration,\n",
    ")\n",
    "\n",
    "ser"
   ]
  },
  {
   "cell_type": "code",
   "execution_count": 5,
   "metadata": {},
   "outputs": [
    {
     "data": {
      "text/plain": [
       "Time serie content:\n",
       "\n",
       "╒══════════════════════════╤═════════════════════════════════════════════════════════════════════╤═══════════╤═════════╕\n",
       "│ name                     │                               content                               │   shape   │    size │\n",
       "╞══════════════════════════╪═════════════════════════════════════════════════════════════════════╪═══════════╪═════════╡\n",
       "│ values                   │   array([ 0.7475994 ,  0.86916155,  0.9686909 , ..., -0.06309742,   │ (409601,) │ 1.56 MB │\n",
       "│ [numpy.ndarray<float32>] │                  1.3059478 ,  0.21683006], dtype=float32)           │           │         │\n",
       "├──────────────────────────┼─────────────────────────────────────────────────────────────────────┼───────────┼─────────┤\n",
       "│ gps times                │ array([100.        , 100.00024414, 100.00048828, ..., 199.99951172, │ (409601,) │ 3.13 MB │\n",
       "│ [numpy.ndarray<float64>] │                        199.99975586, 200.        ])                 │           │         │\n",
       "├──────────────────────────┼─────────────────────────────────────────────────────────────────────┼───────────┼─────────┤\n",
       "│ fft values               │                              --------                               │ --------  │     0 B │\n",
       "│ [not allocated yet]      │                                                                     │           │         │\n",
       "├──────────────────────────┼─────────────────────────────────────────────────────────────────────┼───────────┼─────────┤\n",
       "│ fft frequencies          │                              --------                               │ --------  │     0 B │\n",
       "│ [not allocated yet]      │                                                                     │           │         │\n",
       "╘══════════════════════════╧═════════════════════════════════════════════════════════════════════╧═══════════╧═════════╛\n",
       "\n",
       "Time serie attributes:\n",
       "\n",
       "+--------------------+----------------+---------+--------+\n",
       "| name               | value          | type    |   size |\n",
       "+====================+================+=========+========+\n",
       "| segment name       | GW150914-v3    | str     |   60 B |\n",
       "| detector id        | V1             | str     |   51 B |\n",
       "| detector name      | Virgo (V1)     | str     |   59 B |\n",
       "| dt                 | 0.000244140625 | float64 |    8 B |\n",
       "| sampling rate      | 4096           | int64   |    8 B |\n",
       "| t0 gps             | 100.0          | float64 |    8 B |\n",
       "| duration           | 100.0          | float64 |    8 B |\n",
       "| reference time gps | 0.0            | float64 |    8 B |\n",
       "+--------------------+----------------+---------+--------+"
      ]
     },
     "execution_count": 5,
     "metadata": {},
     "output_type": "execute_result"
    }
   ],
   "source": [
    "ser.crop(100, 200).fft_values"
   ]
  },
  {
   "cell_type": "code",
   "execution_count": 6,
   "metadata": {},
   "outputs": [
    {
     "data": {
      "text/plain": [
       "Time serie content:\n",
       "\n",
       "╒════════════════════════════╤═══════════════════════════════════════════════════════════════════════╤════════════╤══════════╕\n",
       "│ name                       │                                content                                │   shape    │     size │\n",
       "╞════════════════════════════╪═══════════════════════════════════════════════════════════════════════╪════════════╪══════════╡\n",
       "│ values                     │    array([-1.9228444 , -0.9626594 , -0.11488972, ...,  1.913203  ,    │ (8191999,) │ 31.25 MB │\n",
       "│ [numpy.ndarray<float32>]   │                   0.36996347,  0.35567656], dtype=float32)            │            │          │\n",
       "├────────────────────────────┼───────────────────────────────────────────────────────────────────────┼────────────┼──────────┤\n",
       "│ gps times                  │                               --------                                │  --------  │      0 B │\n",
       "│ [not allocated yet]        │                                                                       │            │          │\n",
       "├────────────────────────────┼───────────────────────────────────────────────────────────────────────┼────────────┼──────────┤\n",
       "│ fft values                 │   array([  418.2942  +3.1832315e-12j,  4947.277   +4.2615988e+02j,    │ (8191999,) │ 62.50 MB │\n",
       "│ [numpy.ndarray<complex64>] │           60.590588-1.8150601e+03j, ..., -1594.2966  +1.9169930e+03j, │            │          │\n",
       "│                            │             60.590588+1.8150601e+03j,  4947.277   -4.2615988e+02j],   │            │          │\n",
       "│                            │                              dtype=complex64)                         │            │          │\n",
       "├────────────────────────────┼───────────────────────────────────────────────────────────────────────┼────────────┼──────────┤\n",
       "│ fft frequencies            │  array([ 0.    ,  0.0005,  0.001 , ..., -0.0015, -0.001 , -0.0005])   │ (8191999,) │ 62.50 MB │\n",
       "│ [numpy.ndarray<float64>]   │                                                                       │            │          │\n",
       "╘════════════════════════════╧═══════════════════════════════════════════════════════════════════════╧════════════╧══════════╛\n",
       "\n",
       "Time serie attributes:\n",
       "\n",
       "+--------------------+-------------------+---------+--------+\n",
       "| name               | value             | type    |   size |\n",
       "+====================+===================+=========+========+\n",
       "| segment name       | GW150914-v3       | str     |   60 B |\n",
       "| detector id        | V1                | str     |   51 B |\n",
       "| detector name      | Virgo (V1)        | str     |   59 B |\n",
       "| dt                 | 0.000244140625    | float64 |    8 B |\n",
       "| sampling rate      | 4096              | int64   |    8 B |\n",
       "| t0 gps             | 0.0               | float64 |    8 B |\n",
       "| duration           | 1999.999755859375 | float64 |    8 B |\n",
       "| reference time gps | 0.0               | float64 |    8 B |\n",
       "+--------------------+-------------------+---------+--------+"
      ]
     },
     "execution_count": 6,
     "metadata": {},
     "output_type": "execute_result"
    }
   ],
   "source": [
    "ser.fft_values\n",
    "ser.fft_frequencies\n",
    "ser"
   ]
  }
 ],
 "metadata": {
  "kernelspec": {
   "display_name": "ts-vnv",
   "language": "python",
   "name": "python3"
  },
  "language_info": {
   "codemirror_mode": {
    "name": "ipython",
    "version": 3
   },
   "file_extension": ".py",
   "mimetype": "text/x-python",
   "name": "python",
   "nbconvert_exporter": "python",
   "pygments_lexer": "ipython3",
   "version": "3.11.5"
  }
 },
 "nbformat": 4,
 "nbformat_minor": 2
}
