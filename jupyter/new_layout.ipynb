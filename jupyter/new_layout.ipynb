{
 "cells": [
  {
   "cell_type": "code",
   "execution_count": 1,
   "metadata": {},
   "outputs": [],
   "source": [
    "import sys\n",
    "\n",
    "sys.path.insert(0, \"../src/\")"
   ]
  },
  {
   "cell_type": "code",
   "execution_count": 2,
   "metadata": {},
   "outputs": [
    {
     "data": {
      "text/plain": [
       "<module 'timeserie' from '/home/riccardo/timeseries/jupyter/../src/timeserie/__init__.py'>"
      ]
     },
     "execution_count": 2,
     "metadata": {},
     "output_type": "execute_result"
    }
   ],
   "source": [
    "import timeserie\n",
    "import importlib\n",
    "\n",
    "importlib.reload(timeserie)"
   ]
  },
  {
   "cell_type": "code",
   "execution_count": 3,
   "metadata": {},
   "outputs": [
    {
     "name": "stderr",
     "output_type": "stream",
     "text": [
      "/home/riccardo/timeseries/jupyter/../src/timeserie/convert.py:94: UserWarning: Converting sampling_rate to numpy.int64\n",
      "Please ensure that values conincide: 4096 > 4096\n",
      "  warnings.warn(\n",
      "/home/riccardo/timeseries/jupyter/../src/timeserie/convert.py:99: UserWarning: Converting duration to numpy.float64\n",
      "Please ensure that values conincide: 2000.0 > 2000.0\n",
      "  warnings.warn(\n",
      "/home/riccardo/timeseries/jupyter/../src/timeserie/convert.py:104: UserWarning: Converting t0_gps to numpy.float64\n",
      "Please ensure that values conincide: 0.0 > 0.0\n",
      "  warnings.warn(\n"
     ]
    }
   ],
   "source": [
    "sampling_rate = 4096\n",
    "duration = 2_000.0\n",
    "import numpy\n",
    "\n",
    "ser = timeserie.from_array(\n",
    "    strain=numpy.random.normal(\n",
    "        0,\n",
    "        1,\n",
    "        int(sampling_rate * duration - 1),\n",
    "    ).astype(numpy.float32),\n",
    "    # gps_times= numpy.arange(0, 100 + 1e-5, 1e-5),\n",
    "    segment_name=\"array demo\",\n",
    "    # detector_id=\"-\",\n",
    "    # dt = 1e-5,\n",
    "    sampling_rate=sampling_rate,\n",
    "    t0_gps=0.0,\n",
    "    duration=duration,\n",
    ")"
   ]
  },
  {
   "cell_type": "code",
   "execution_count": 4,
   "metadata": {},
   "outputs": [],
   "source": [
    "ser._fft_values"
   ]
  },
  {
   "cell_type": "code",
   "execution_count": 5,
   "metadata": {},
   "outputs": [
    {
     "data": {
      "text/plain": [
       "\n",
       "Time serie content:\n",
       "\n",
       "╒══════════════════════════════════╤═════════════════════════════════════════════════════════════════╤════════════╤══════════╕\n",
       "│ name                             │                             content                             │   shape    │     size │\n",
       "╞══════════════════════════════════╪═════════════════════════════════════════════════════════════════╪════════════╪══════════╡\n",
       "│ strain                           │ array([ 0.56270695, -0.50641584, -1.1390111 , ...,  1.6136183 , │ (8191999,) │ 31.25 MB │\n",
       "│ <class 'numpy.ndarray'><float32> │                1.6797048 ,  0.0029548 ], dtype=float32)         │            │          │\n",
       "├──────────────────────────────────┼─────────────────────────────────────────────────────────────────┼────────────┼──────────┤\n",
       "│ gps_time                         │                              -----                              │   -----    │    ----- │\n",
       "│ 'not allocated yet'              │                                                                 │            │          │\n",
       "├──────────────────────────────────┼─────────────────────────────────────────────────────────────────┼────────────┼──────────┤\n",
       "│ fft_values                       │                              -----                              │   -----    │    ----- │\n",
       "│ 'not allocated yet'              │                                                                 │            │          │\n",
       "├──────────────────────────────────┼─────────────────────────────────────────────────────────────────┼────────────┼──────────┤\n",
       "│ fft_freqs                        │                              -----                              │   -----    │    ----- │\n",
       "│ 'not allocated yet'              │                                                                 │            │          │\n",
       "╘══════════════════════════════════╧═════════════════════════════════════════════════════════════════╧════════════╧══════════╛\n",
       "\n",
       "Time serie attributes:\n",
       "\n",
       "+---------------+----------------+-----------+--------+\n",
       "| name          | value          | type      |   size |\n",
       "+===============+================+===========+========+\n",
       "| segment_name  | array demo     | str       |   59 B |\n",
       "| detector      | _              | Detectors |   56 B |\n",
       "| t0_gps        | 0.0            | float64   |    8 B |\n",
       "| duration      | 2000.0         | float64   |    8 B |\n",
       "| dt            | 0.000244140625 | float64   |    8 B |\n",
       "| sampling_rate | 4096           | int64     |    8 B |\n",
       "+---------------+----------------+-----------+--------+"
      ]
     },
     "execution_count": 5,
     "metadata": {},
     "output_type": "execute_result"
    }
   ],
   "source": [
    "ser"
   ]
  },
  {
   "cell_type": "code",
   "execution_count": 6,
   "metadata": {},
   "outputs": [
    {
     "name": "stdout",
     "output_type": "stream",
     "text": [
      "╒══════════════╤═══════════════╤══════════════════════════╤════════════════╤══════════╤══════════════╕\n",
      "│ event name   │ detector id   │ data type                │ duration [s]   │ size     │ % of cache   │\n",
      "╞══════════════╪═══════════════╪══════════════════════════╪════════════════╪══════════╪══════════════╡\n",
      "│ array demo   │ _             │ [numpy.ndarray<float32>] │ 2.0e+03        │ 31.25 MB │ 3.13 %       │\n",
      "├──────────────┼───────────────┼──────────────────────────┼────────────────┼──────────┼──────────────┤\n",
      "│              │               │                          │ Tot            │ 31.25 MB │ 3.13 %       │\n",
      "╘══════════════╧═══════════════╧══════════════════════════╧════════════════╧══════════╧══════════════╛\n"
     ]
    }
   ],
   "source": [
    "print(timeserie.CACHE)"
   ]
  },
  {
   "cell_type": "code",
   "execution_count": 11,
   "metadata": {},
   "outputs": [
    {
     "name": "stderr",
     "output_type": "stream",
     "text": [
      "/home/riccardo/timeseries/jupyter/../src/timeserie/download.py:59: UserWarning: Duration of downloaded data set to: 9.999755859375\n",
      "  warnings.warn(f\"Duration of downloaded data set to: {new_duration}\")\n",
      "/home/riccardo/timeseries/jupyter/../src/timeserie/convert.py:76: UserWarning: dt inserted (1126259462.4) will be ignored\n",
      "  warnings.warn(f\"dt inserted ({dt}) will be ignored\")\n",
      "/home/riccardo/timeseries/jupyter/../src/timeserie/convert.py:80: UserWarning: duration inserted (9.999755859375) will be ignored\n",
      "  warnings.warn(f\"duration inserted ({duration}) will be ignored\")\n"
     ]
    },
    {
     "name": "stdout",
     "output_type": "stream",
     "text": [
      "╒══════════════╤═══════════════╤══════════════════════════╤════════════════╤═══════════╤══════════════╕\n",
      "│ event name   │ detector id   │ data type                │ duration [s]   │ size      │ % of cache   │\n",
      "╞══════════════╪═══════════════╪══════════════════════════╪════════════════╪═══════════╪══════════════╡\n",
      "│ array demo   │ _             │ [numpy.ndarray<float32>] │ 2.0e+03        │ 31.25 MB  │ 3.13 %       │\n",
      "├──────────────┼───────────────┼──────────────────────────┼────────────────┼───────────┼──────────────┤\n",
      "│ GW150914-v2  │ L1            │ [numpy.ndarray<float64>] │ 1.0e+01        │ 320.10 kB │ 0.03 %       │\n",
      "├──────────────┼───────────────┼──────────────────────────┼────────────────┼───────────┼──────────────┤\n",
      "│ GW150914-v2  │ H1            │ [numpy.ndarray<float64>] │ 1.0e+01        │ 320.10 kB │ 0.03 %       │\n",
      "├──────────────┼───────────────┼──────────────────────────┼────────────────┼───────────┼──────────────┤\n",
      "│ GW150914-v3  │ L1            │ [numpy.ndarray<float64>] │ 1.0e+01        │ 320.10 kB │ 0.03 %       │\n",
      "├──────────────┼───────────────┼──────────────────────────┼────────────────┼───────────┼──────────────┤\n",
      "│ GW150914-v3  │ H1            │ [numpy.ndarray<float64>] │ 1.0e+01        │ 320.10 kB │ 0.03 %       │\n",
      "├──────────────┼───────────────┼──────────────────────────┼────────────────┼───────────┼──────────────┤\n",
      "│ GW150914-v1  │ L1            │ [numpy.ndarray<float64>] │ 1.0e+01        │ 320.10 kB │ 0.03 %       │\n",
      "├──────────────┼───────────────┼──────────────────────────┼────────────────┼───────────┼──────────────┤\n",
      "│ GW150914-v1  │ H1            │ [numpy.ndarray<float64>] │ 1.0e+01        │ 320.10 kB │ 0.03 %       │\n",
      "├──────────────┼───────────────┼──────────────────────────┼────────────────┼───────────┼──────────────┤\n",
      "│              │               │                          │ Tot            │ 33.13 MB  │ 3.31 %       │\n",
      "╘══════════════╧═══════════════╧══════════════════════════╧════════════════╧═══════════╧══════════════╛\n"
     ]
    }
   ],
   "source": [
    "res = timeserie.fetch_by_name(\n",
    "    [\"GW150914-v2\", \"GW150914-v3\", \"GW150914-v1\"],\n",
    "    [\"L1\", \"H1\"],\n",
    "    # verbose=True,\n",
    "    duration=10.0,\n",
    "    force_cache_overwrite=True\n",
    ")\n",
    "print(timeserie.CACHE)"
   ]
  },
  {
   "cell_type": "code",
   "execution_count": 13,
   "metadata": {},
   "outputs": [
    {
     "data": {
      "text/plain": [
       "(40960,)"
      ]
     },
     "execution_count": 13,
     "metadata": {},
     "output_type": "execute_result"
    }
   ],
   "source": [
    "data = res[(\"GW150914-v3\", \"H1\")]\n",
    "data.gps_times.shape"
   ]
  },
  {
   "cell_type": "code",
   "execution_count": 9,
   "metadata": {},
   "outputs": [
    {
     "ename": "KeyError",
     "evalue": "('array demo', '-')",
     "output_type": "error",
     "traceback": [
      "\u001b[0;31m---------------------------------------------------------------------------\u001b[0m",
      "\u001b[0;31mKeyError\u001b[0m                                  Traceback (most recent call last)",
      "Cell \u001b[0;32mIn[9], line 1\u001b[0m\n\u001b[0;32m----> 1\u001b[0m serie \u001b[38;5;241m=\u001b[39m \u001b[43mtimeserie\u001b[49m\u001b[38;5;241;43m.\u001b[39;49m\u001b[43mCACHE\u001b[49m\u001b[38;5;241;43m.\u001b[39;49m\u001b[43mget_cached_data\u001b[49m\u001b[43m(\u001b[49m\u001b[38;5;124;43m'\u001b[39;49m\u001b[38;5;124;43marray demo\u001b[39;49m\u001b[38;5;124;43m'\u001b[39;49m\u001b[43m,\u001b[49m\u001b[43m \u001b[49m\u001b[38;5;124;43m'\u001b[39;49m\u001b[38;5;124;43m-\u001b[39;49m\u001b[38;5;124;43m'\u001b[39;49m\u001b[43m)\u001b[49m\n\u001b[1;32m      2\u001b[0m serie\n",
      "File \u001b[0;32m~/timeseries/jupyter/../src/timeserie/common/_typing.py:234\u001b[0m, in \u001b[0;36mtype_check.<locals>.decorator.<locals>.wrapper\u001b[0;34m(*args, **kwargs)\u001b[0m\n\u001b[1;32m    231\u001b[0m \u001b[38;5;28;01mfor\u001b[39;00m kwarg_name, kwarg \u001b[38;5;129;01min\u001b[39;00m kwargs\u001b[38;5;241m.\u001b[39mitems():\n\u001b[1;32m    232\u001b[0m     _check_arg(kwarg, kwarg_name, var_name_and_type[kwarg_name])\n\u001b[0;32m--> 234\u001b[0m \u001b[38;5;28;01mreturn\u001b[39;00m \u001b[43mfunc\u001b[49m\u001b[43m(\u001b[49m\u001b[38;5;241;43m*\u001b[39;49m\u001b[43margs\u001b[49m\u001b[43m,\u001b[49m\u001b[43m \u001b[49m\u001b[38;5;241;43m*\u001b[39;49m\u001b[38;5;241;43m*\u001b[39;49m\u001b[43mkwargs\u001b[49m\u001b[43m)\u001b[49m\n",
      "File \u001b[0;32m~/timeseries/jupyter/../src/timeserie/caching.py:147\u001b[0m, in \u001b[0;36mLRUCache.get_cached_data\u001b[0;34m(self, segment_names, detector_ids)\u001b[0m\n\u001b[1;32m    145\u001b[0m             out_dict[key] \u001b[38;5;241m=\u001b[39m \u001b[38;5;28mself\u001b[39m[key]\n\u001b[1;32m    146\u001b[0m \u001b[38;5;28;01mif\u001b[39;00m \u001b[38;5;28mlen\u001b[39m(detector_ids) \u001b[38;5;241m==\u001b[39m \u001b[38;5;241m1\u001b[39m \u001b[38;5;129;01mand\u001b[39;00m \u001b[38;5;28mlen\u001b[39m(segment_names) \u001b[38;5;241m==\u001b[39m \u001b[38;5;241m1\u001b[39m:\n\u001b[0;32m--> 147\u001b[0m     \u001b[38;5;28;01mreturn\u001b[39;00m \u001b[43mout_dict\u001b[49m\u001b[43m[\u001b[49m\u001b[43mkey\u001b[49m\u001b[43m]\u001b[49m\n\u001b[1;32m    148\u001b[0m \u001b[38;5;28;01melse\u001b[39;00m:\n\u001b[1;32m    149\u001b[0m     \u001b[38;5;28;01mreturn\u001b[39;00m out_dict\n",
      "\u001b[0;31mKeyError\u001b[0m: ('array demo', '-')"
     ]
    }
   ],
   "source": [
    "serie = timeserie.CACHE.get_cached_data('array demo', '-')\n",
    "serie"
   ]
  },
  {
   "cell_type": "code",
   "execution_count": null,
   "metadata": {},
   "outputs": [],
   "source": [
    "series = timeserie.CACHE.get_cached_data(\n",
    "    detector_ids=\"L1\", segment_names=\"GW150914-v3\"\n",
    ")\n",
    "series.save(\"../saves\", fmt = \"zarr\")"
   ]
  },
  {
   "cell_type": "code",
   "execution_count": null,
   "metadata": {},
   "outputs": [],
   "source": [
    "timeserie.from_file([\"../saves/GW150914-v3/L1\"])"
   ]
  }
 ],
 "metadata": {
  "kernelspec": {
   "display_name": "ts-vnv",
   "language": "python",
   "name": "python3"
  },
  "language_info": {
   "codemirror_mode": {
    "name": "ipython",
    "version": 3
   },
   "file_extension": ".py",
   "mimetype": "text/x-python",
   "name": "python",
   "nbconvert_exporter": "python",
   "pygments_lexer": "ipython3",
   "version": "3.11.5"
  }
 },
 "nbformat": 4,
 "nbformat_minor": 2
}
