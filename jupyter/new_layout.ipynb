{
 "cells": [
  {
   "cell_type": "code",
   "execution_count": 24,
   "metadata": {},
   "outputs": [],
   "source": [
    "import sys\n",
    "\n",
    "sys.path.insert(0, \"../src/\")"
   ]
  },
  {
   "cell_type": "code",
   "execution_count": 25,
   "metadata": {},
   "outputs": [
    {
     "data": {
      "text/plain": [
       "32768234"
      ]
     },
     "execution_count": 25,
     "metadata": {},
     "output_type": "execute_result"
    }
   ],
   "source": [
    "import timeseries\n",
    "import importlib\n",
    "\n",
    "importlib.reload(timeseries)\n",
    "from timeseries import TimeSeries\n",
    "import cupy\n",
    "\n",
    "sampling_rate = 4096\n",
    "duration = 2_000.0\n",
    "import numpy\n",
    "\n",
    "ser = TimeSeries.from_array(\n",
    "    values=numpy.random.normal(\n",
    "        0,\n",
    "        1,\n",
    "        int(sampling_rate * duration - 1),\n",
    "    ).astype(numpy.float32),\n",
    "    # gps_times= numpy.arange(0, 100 + 1e-5, 1e-5),\n",
    "    # segment_name=\"GW150914-v3\",\n",
    "    # detector_id=\"-\",\n",
    "    # dt = 1e-5,\n",
    "    sampling_rate=sampling_rate,\n",
    "    t0_gps=0.0,\n",
    "    duration=duration,\n",
    ")\n",
    "\n",
    "ser.nbytes"
   ]
  },
  {
   "cell_type": "code",
   "execution_count": 31,
   "metadata": {},
   "outputs": [
    {
     "name": "stderr",
     "output_type": "stream",
     "text": [
      "/home/riccardo/timeseries/jupyter/../src/timeseries/timeseries.py:36: UserWarning: cache is being deleted!\n",
      "  @cache_size_mb.setter\n"
     ]
    },
    {
     "name": "stdout",
     "output_type": "stream",
     "text": [
      "Connecting to gwosc for GW150914-v2(L1)...\n",
      "done!\n",
      "Connecting to gwosc for GW150914-v2(H1)...\n",
      "done!\n",
      "Fetched 1 URLs from gwosc.org for [1126258962 .. 1126259963))\n",
      "Fetched 1 URLs from gwosc.org for [1126258962 .. 1126259963))\n",
      "Connecting to gwosc for GW150914-v3(L1)...\n",
      "done!\n",
      "Connecting to gwosc for GW150914-v3(H1)...\n",
      "done!\n",
      "Connecting to gwosc for GW150914-v1(L1)...\n",
      "done!\n",
      "Connecting to gwosc for GW150914-v1(H1)...\n",
      "done!\n",
      "Fetched 1 URLs from gwosc.org for [1126258962 .. 1126259963))\n",
      "Fetched 1 URLs from gwosc.org for [1126258962 .. 1126259963))\n",
      "Fetched 1 URLs from gwosc.org for [1126258962 .. 1126259963))\n",
      "Fetched 1 URLs from gwosc.org for [1126258962 .. 1126259963))\n",
      "Reading data... [Done]\n"
     ]
    },
    {
     "name": "stderr",
     "output_type": "stream",
     "text": [
      "/home/riccardo/timeseries/jupyter/../src/timeseries/timeseries.py:159: UserWarning: t0_gps set to 1126258962.3999023\n",
      "  )\n",
      "/home/riccardo/timeseries/jupyter/../src/timeseries/timeseries.py:177: UserWarning: dt set to 0.000244140625\n",
      "  kwargs[\"duration\"] = numpy.float64(duration)\n",
      "/home/riccardo/timeseries/jupyter/../src/timeseries/timeseries.py:191: UserWarning: sampling_rate set to 4096\n",
      "  if sampling_rate is not None:\n"
     ]
    },
    {
     "name": "stdout",
     "output_type": "stream",
     "text": [
      "Reading data... [Done]\n",
      "Reading data... [Done]\n",
      "Reading data... [Done]\n",
      "Reading data... Reading data... [Done]\n",
      "[Done]\n",
      "dict_keys([('GW150914-v2', 'L1'), ('GW150914-v2', 'H1'), ('GW150914-v3', 'L1'), ('GW150914-v3', 'H1'), ('GW150914-v1', 'L1'), ('GW150914-v1', 'H1')])\n",
      "╒══════════════╤═══════════════╤════════════════════════════════════╤════════════════╤═══════════╤══════════════╕\n",
      "│ event name   │ detector id   │ data type                          │ duration [s]   │ size      │ % of cache   │\n",
      "╞══════════════╪═══════════════╪════════════════════════════════════╪════════════════╪═══════════╪══════════════╡\n",
      "│ GW150914-v3  │ L1            │ [<class 'numpy.ndarray'><float64>] │ 1.0e+03        │ 62.50 MB  │ 20.83 %      │\n",
      "├──────────────┼───────────────┼────────────────────────────────────┼────────────────┼───────────┼──────────────┤\n",
      "│ GW150914-v3  │ H1            │ [<class 'numpy.ndarray'><float64>] │ 1.0e+03        │ 62.50 MB  │ 20.83 %      │\n",
      "├──────────────┼───────────────┼────────────────────────────────────┼────────────────┼───────────┼──────────────┤\n",
      "│ GW150914-v1  │ L1            │ [<class 'numpy.ndarray'><float64>] │ 1.0e+03        │ 62.50 MB  │ 20.83 %      │\n",
      "├──────────────┼───────────────┼────────────────────────────────────┼────────────────┼───────────┼──────────────┤\n",
      "│ GW150914-v1  │ H1            │ [<class 'numpy.ndarray'><float64>] │ 1.0e+03        │ 62.50 MB  │ 20.83 %      │\n",
      "├──────────────┼───────────────┼────────────────────────────────────┼────────────────┼───────────┼──────────────┤\n",
      "│              │               │                                    │ Tot            │ 250.00 MB │ 83.33 %      │\n",
      "╘══════════════╧═══════════════╧════════════════════════════════════╧════════════════╧═══════════╧══════════════╛\n"
     ]
    },
    {
     "name": "stderr",
     "output_type": "stream",
     "text": [
      "/home/riccardo/timeseries/jupyter/../src/timeseries/core/_caching.py:95: UserWarning: Removed ('GW150914-v2', 'L1') to free cache space.\n",
      "  warn(f\"Removed {key} to free cache space.\")\n",
      "/home/riccardo/timeseries/jupyter/../src/timeseries/core/_caching.py:95: UserWarning: Removed ('GW150914-v2', 'H1') to free cache space.\n",
      "  warn(f\"Removed {key} to free cache space.\")\n"
     ]
    }
   ],
   "source": [
    "timeseries.TimeSeries.set_cache_size_mb(300)\n",
    "res = timeseries.TimeSeries.fetch_event(\n",
    "    [\"GW150914-v2\", \"GW150914-v3\", \"GW150914-v1\"],\n",
    "    [\"L1\", \"H1\"],\n",
    "    # verbose=True,\n",
    "    duration=1_000.0,\n",
    ")\n",
    "print(res.keys())\n",
    "print(timeseries.TimeSeries._DOWNLOAD_CACHE)"
   ]
  },
  {
   "cell_type": "code",
   "execution_count": 27,
   "metadata": {},
   "outputs": [
    {
     "data": {
      "text/plain": [
       "╒══════════════╤═══════════════╤════════════════════════════════════╤════════════════╤═══════════╤══════════════╕\n",
       "│ event name   │ detector id   │ data type                          │ duration [s]   │ size      │ % of cache   │\n",
       "╞══════════════╪═══════════════╪════════════════════════════════════╪════════════════╪═══════════╪══════════════╡\n",
       "│ GW150914-v2  │ L1            │ [<class 'numpy.ndarray'><float64>] │ 1.0e+01        │ 640.26 kB │ 0.63 %       │\n",
       "├──────────────┼───────────────┼────────────────────────────────────┼────────────────┼───────────┼──────────────┤\n",
       "│ GW150914-v2  │ H1            │ [<class 'numpy.ndarray'><float64>] │ 1.0e+01        │ 640.26 kB │ 0.63 %       │\n",
       "├──────────────┼───────────────┼────────────────────────────────────┼────────────────┼───────────┼──────────────┤\n",
       "│ GW150914-v3  │ L1            │ [<class 'numpy.ndarray'><float64>] │ 1.0e+01        │ 640.26 kB │ 0.63 %       │\n",
       "├──────────────┼───────────────┼────────────────────────────────────┼────────────────┼───────────┼──────────────┤\n",
       "│ GW150914-v3  │ H1            │ [<class 'numpy.ndarray'><float64>] │ 1.0e+01        │ 640.26 kB │ 0.63 %       │\n",
       "├──────────────┼───────────────┼────────────────────────────────────┼────────────────┼───────────┼──────────────┤\n",
       "│ GW150914-v1  │ L1            │ [<class 'numpy.ndarray'><float64>] │ 1.0e+01        │ 640.26 kB │ 0.63 %       │\n",
       "├──────────────┼───────────────┼────────────────────────────────────┼────────────────┼───────────┼──────────────┤\n",
       "│ GW150914-v1  │ H1            │ [<class 'numpy.ndarray'><float64>] │ 1.0e+01        │ 640.26 kB │ 0.63 %       │\n",
       "├──────────────┼───────────────┼────────────────────────────────────┼────────────────┼───────────┼──────────────┤\n",
       "│              │               │                                    │ Tot            │ 3.75 MB   │ 3.75 %       │\n",
       "╘══════════════╧═══════════════╧════════════════════════════════════╧════════════════╧═══════════╧══════════════╛"
      ]
     },
     "execution_count": 27,
     "metadata": {},
     "output_type": "execute_result"
    }
   ],
   "source": [
    "timeseries.TimeSeries._DOWNLOAD_CACHE"
   ]
  },
  {
   "cell_type": "code",
   "execution_count": 28,
   "metadata": {},
   "outputs": [
    {
     "data": {
      "text/plain": [
       "╒══════════════╤═══════════════╤═════════════╤════════════════╤════════╤══════════════╕\n",
       "│ event name   │ detector id   │ data type   │ duration [s]   │ size   │ % of cache   │\n",
       "╞══════════════╪═══════════════╪═════════════╪════════════════╪════════╪══════════════╡\n",
       "│              │               │             │ Tot            │ 0 B    │ 0.00 %       │\n",
       "╘══════════════╧═══════════════╧═════════════╧════════════════╧════════╧══════════════╛"
      ]
     },
     "execution_count": 28,
     "metadata": {},
     "output_type": "execute_result"
    }
   ],
   "source": [
    "\n",
    "timeseries.TimeSeries._DOWNLOAD_CACHE"
   ]
  },
  {
   "cell_type": "code",
   "execution_count": 29,
   "metadata": {},
   "outputs": [],
   "source": [
    "# cropped = ser.crop(70, 200)\n",
    "# cropped.fft_values\n",
    "# cropped.fft_frequencies\n",
    "# cropped"
   ]
  }
 ],
 "metadata": {
  "kernelspec": {
   "display_name": "ts-vnv",
   "language": "python",
   "name": "python3"
  },
  "language_info": {
   "codemirror_mode": {
    "name": "ipython",
    "version": 3
   },
   "file_extension": ".py",
   "mimetype": "text/x-python",
   "name": "python",
   "nbconvert_exporter": "python",
   "pygments_lexer": "ipython3",
   "version": "3.11.5"
  }
 },
 "nbformat": 4,
 "nbformat_minor": 2
}
