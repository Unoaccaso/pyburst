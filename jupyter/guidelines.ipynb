{
 "cells": [
  {
   "cell_type": "markdown",
   "metadata": {
    "slideshow": {
     "slide_type": "slide"
    }
   },
   "source": [
    "----------\n",
    "# Guidelines for TimeSeries object"
   ]
  },
  {
   "cell_type": "markdown",
   "metadata": {
    "slideshow": {
     "slide_type": "slide"
    }
   },
   "source": [
    "## What is a TimeSerie"
   ]
  },
  {
   "cell_type": "markdown",
   "metadata": {
    "slideshow": {
     "slide_type": "subslide"
    }
   },
   "source": [
    "A time-series object is an `array-like` object that requires `time-like` indices.\n",
    "\n",
    "Some examples of `TimeSeries` include:\n",
    "- Output of an interferometer\n",
    "- Stock price over time for a company\n",
    "- Temperature recorded at different times of the day in a specific location\n",
    "- Industrial production of a factory over time\n",
    "- Energy consumption of a household over time\n",
    "- Yield of an agricultural crop over the years\n",
    "- Number of customers in a retail store over time\n",
    "- Financial data such as stock prices, trading volume, and daily returns\n",
    "- Traffic flow on a road throughout the day\n"
   ]
  },
  {
   "cell_type": "markdown",
   "metadata": {
    "slideshow": {
     "slide_type": "slide"
    }
   },
   "source": [
    "## Some guidelines on GW TimeSerie\n",
    "\n",
    "From the object that stores this kind of data I would require to:\n",
    "* Dynamically adapt to data size and type:\n",
    "    - `numpy`: for small series and single threaded computations;\n",
    "    - `dask`: for large series that don't fit in memory;\n",
    "    - `cupy`: for heavy/parallel computation;\n",
    "* Allow for slicing and selection via:\n",
    "    - indexing and slicing on data;\n",
    "    - indexing on time;\n",
    "    - time slicing with human readable datetimes;\n",
    "* Time conversion between at least:\n",
    "    - `gps`;\n",
    "    - `iso`;\n",
    "    - `mjd`;\n",
    "* Compatible with similar objects already in use;\n",
    "* Be able to read and write data from and to the following formats:\n",
    "    - `zarr`\n",
    "    - `hdf5`"
   ]
  },
  {
   "cell_type": "markdown",
   "metadata": {
    "slideshow": {
     "slide_type": "subslide"
    }
   },
   "source": [
    "\n",
    "* ## Values:\n",
    "    - `values` / `strain`: the actual data stored in the Serie;\n",
    "    - `times`: the time axis\n",
    "* ## Parameters:\n",
    "    - `dt`: time step, **must** be equal to 1 / `sampling_rate`.        \n",
    "    - `n_samples`: number of samples, **must** be equal to `duration` / `dt` and `values.shape`.\n",
    "    - `sampling_rate`: series sampling rate, **must** be equal to 1 / `dt`.\n",
    "    - `t0`: starting time of the series, **must** be equal to `values.times[0]`.\n",
    "    - `duration`: series duration, **must** be equal to `values.times[1]` - `values.times[0]`.\n",
    "    - `reference_time`: a reference time for the series, like the event gps for an event.\n",
    "    - `segment_name`/`event_name`: a name for the serie, like the event name.\n",
    "    - `detector_id`: the id of the detector that measured the serie, eg `L1`\n",
    "    - `detector_name`: the explicit name of the detector, eg. Ligo Livingston (L1)\n"
   ]
  },
  {
   "cell_type": "markdown",
   "metadata": {
    "slideshow": {
     "slide_type": "slide"
    }
   },
   "source": [
    "## Some challenges that I encountered\n",
    "\n",
    "* ### Memory management:\n",
    "    - If the series is too long, relying on a simple implementation of `pandas` or `numpy` to manage your data might not be feasible due to memory limitations.\n",
    "    - Some packages like `xarray` are compatible with `dask`, a package used for distributed and lazy computation, providing useful APIs to interact with your data.\n",
    "    - However, for very long series such as in the case of CW, even though you can build lazy arrays but those packages requires you to construct the time-axis before creating the object.\n",
    "    - In the case of GPS times, for example, you need `float64` indices to avoid losing information, effectively limiting the size of the object you want to work with.\n",
    "    - `polars` is `pandas`-like package that implements some useful features, such as lazy computation. The problem is that the package is very young, also is not GPU-compatible yet (not easly, anyway).\n",
    " "
   ]
  }
 ],
 "metadata": {
  "kernelspec": {
   "display_name": "Python 3 (ipykernel)",
   "language": "python",
   "name": "python3"
  },
  "language_info": {
   "codemirror_mode": {
    "name": "ipython",
    "version": 3
   },
   "file_extension": ".py",
   "mimetype": "text/x-python",
   "name": "python",
   "nbconvert_exporter": "python",
   "pygments_lexer": "ipython3",
   "version": "3.12.2"
  }
 },
 "nbformat": 4,
 "nbformat_minor": 4
}
