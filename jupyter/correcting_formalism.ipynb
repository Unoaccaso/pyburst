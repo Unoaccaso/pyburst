{
 "cells": [
  {
   "cell_type": "code",
   "execution_count": 42,
   "metadata": {},
   "outputs": [],
   "source": [
    "import sys\n",
    "\n",
    "sys.path.insert(0, \"../src\")\n",
    "\n",
    "import numpy\n",
    "from typing import Union\n",
    "from numpy import int32, int64, float32, float64, complex64, complex128\n",
    "from abc import ABC\n",
    "from dataclasses import dataclass\n",
    "from enum import Enum\n",
    "from functools import wraps\n",
    "from timeserie.common import _typing\n",
    "\n",
    "\n",
    "class Detectors(Enum):\n",
    "    L1 = \"Ligo Livingston (L1)\"\n",
    "    H1 = \"Ligo Hanford (H1)\"\n",
    "    V1 = \"Virgo (V1)\"\n",
    "    _ = \"_\"\n",
    "\n",
    "@dataclass\n",
    "class _BaseSeriesAttrs:\n",
    "    segment_name: str\n",
    "    detector: Detectors\n",
    "    t0_gps: float64\n",
    "    duration: float64\n",
    "    dt: float64\n",
    "    sampling_rate: int64\n",
    "\n",
    "    def __post_init__(self):\n",
    "\n",
    "        # Check for data type\n",
    "        # ===================\n",
    "        if not isinstance(self.segment_name, str):\n",
    "            raise ValueError(f\"segment_name must be a string.\")\n",
    "        if not isinstance(self.detector, Detectors):\n",
    "            raise ValueError(f\"detector must be a Detector.\")\n",
    "        if not isinstance(self.t0_gps, float64):\n",
    "            raise ValueError(f\"t0_gps must be a float64.\")\n",
    "        if not isinstance(self.duration, float64):\n",
    "            raise ValueError(f\"duration must be a float64.\")\n",
    "        if not isinstance(self.dt, float64):\n",
    "            raise ValueError(f\"dt must be a float64.\")\n",
    "        if not isinstance(self.sampling_rate, int64):\n",
    "            raise ValueError(f\"sampling_rate must be a int64.\")\n",
    "\n",
    "        # Checks for data integrity\n",
    "        # =========================\n",
    "        # sampling rate must power of 2, smaller than 4096\n",
    "        _ = numpy.log2(self.sampling_rate) % 1 != 0 or self.sampling_rate > 4096\n",
    "        if _:\n",
    "            raise ValueError(f\"sampling rate must be a power of 2, smaller than 4096\")\n",
    "        # dt and sampling rate compatibility\n",
    "        _ = 1 / self.dt != self.sampling_rate\n",
    "        if _:\n",
    "            raise ValueError(f\"dt and sampling_rate are not compatible.\")\n",
    "        # t0 compatibility\n",
    "        _ = self.t0_gps != numpy.floor(self.t0_gps / self.dt) * self.dt\n",
    "        if _:\n",
    "            raise ValueError(f\"t0_gps is incompatible with dt and sampling rate\")\n",
    "        # duration compatibility\n",
    "        _ = self.duration != numpy.ceil(self.duration / self.dt) * self.dt\n",
    "        if _:\n",
    "            raise ValueError(f\"duration is incompatible with dt and sampling rate\")\n",
    "    \n",
    "    # modifying the setter to ensure read-only behaviour\n",
    "    def __setattr__(self, __name: str, __value) -> None:\n",
    "        if hasattr(self, __name):\n",
    "            raise PermissionError(f\"Attributes are readonly!\")\n",
    "        else:\n",
    "            super().__setattr__(__name, __value)\n",
    "\n",
    "\n",
    "@dataclass\n",
    "class GPS_Interval:\n",
    "    time_range: list[_typing.REAL_NUM, _typing.REAL_NUM]\n",
    "\n",
    "    def __post_init__(self):\n",
    "        # check input type\n",
    "        if not isinstance(self.time_range, list):\n",
    "            raise ValueError(f\"Range must be a list of numbers.\")\n",
    "        # check input shape\n",
    "        if len(self.time_range) != 2:\n",
    "            raise ValueError(f\"Range must be a list with 2 elements.\")\n",
    "        # check list content\n",
    "        if not isinstance(self.time_range[0], _typing.REAL_NUM) or not isinstance(\n",
    "            self.time_range[1], _typing.REAL_NUM\n",
    "        ):\n",
    "            raise ValueError(f\"Range values must be real numbers.\")\n",
    "        # check time integrity\n",
    "        if self.time_range[0] >= self.time_range[1]:\n",
    "            raise ValueError(f\"Start time must be smaller than stop time.\")"
   ]
  },
  {
   "cell_type": "code",
   "execution_count": 63,
   "metadata": {},
   "outputs": [],
   "source": [
    "from abc import ABC, abstractmethod, abstractproperty\n",
    "class _BaseTimeSerie(ABC): \n",
    "    @abstractproperty\n",
    "    def strain(self): pass\n",
    "\n",
    "    @abstractproperty\n",
    "    def times(self): pass\n",
    "\n",
    "    @abstractproperty\n",
    "    def attrs(self): pass\n",
    "\n",
    "    @abstractproperty\n",
    "    def nbytes(self): pass\n",
    "\n",
    "    @abstractmethod\n",
    "    def crop(self, gps_interval: GPS_Interval): pass\n",
    "\n",
    "    @abstractmethod\n",
    "    def resample(self, new_sampling_rate: _typing.INT_LIKE): pass\n",
    "\n",
    "    @abstractmethod\n",
    "    def whiten(self): pass\n",
    "    \n",
    "    @abstractmethod\n",
    "    def fft(self): pass\n",
    "\n",
    "    @abstractmethod\n",
    "    def fftfreq(self): pass\n",
    "\n",
    "    @abstractmethod\n",
    "    def __repr__(self): pass\n",
    "\n",
    "class CPUSerie(_BaseTimeSerie): ...\n"
   ]
  },
  {
   "cell_type": "code",
   "execution_count": 59,
   "metadata": {},
   "outputs": [
    {
     "data": {
      "text/plain": [
       "1024.0"
      ]
     },
     "execution_count": 59,
     "metadata": {},
     "output_type": "execute_result"
    }
   ],
   "source": [
    "samprate = 1024\n",
    "attr = _BaseSeriesAttrs(\n",
    "    \"_\",\n",
    "    Detectors.H1,\n",
    "    float64(0),\n",
    "    float64(1024),\n",
    "    float64(1/samprate),\n",
    "    int64(samprate),\n",
    ")\n",
    "attr.duration"
   ]
  },
  {
   "cell_type": "code",
   "execution_count": 61,
   "metadata": {},
   "outputs": [
    {
     "ename": "TypeError",
     "evalue": "_BaseSeriesAttrs.__init__() missing 6 required positional arguments: 'segment_name', 'detector', 't0_gps', 'duration', 'dt', and 'sampling_rate'",
     "output_type": "error",
     "traceback": [
      "\u001b[0;31m---------------------------------------------------------------------------\u001b[0m",
      "\u001b[0;31mTypeError\u001b[0m                                 Traceback (most recent call last)",
      "Cell \u001b[0;32mIn[61], line 1\u001b[0m\n\u001b[0;32m----> 1\u001b[0m \u001b[43mCPUSerie\u001b[49m\u001b[43m(\u001b[49m\u001b[43m)\u001b[49m\u001b[38;5;241m.\u001b[39mdetector\n",
      "\u001b[0;31mTypeError\u001b[0m: _BaseSeriesAttrs.__init__() missing 6 required positional arguments: 'segment_name', 'detector', 't0_gps', 'duration', 'dt', and 'sampling_rate'"
     ]
    }
   ],
   "source": [
    "CPUSerie()"
   ]
  },
  {
   "cell_type": "code",
   "execution_count": 18,
   "metadata": {},
   "outputs": [
    {
     "data": {
      "text/plain": [
       "1"
      ]
     },
     "execution_count": 18,
     "metadata": {},
     "output_type": "execute_result"
    }
   ],
   "source": [
    "import numpy\n",
    "arr = numpy.arange(0, 100, 1)\n",
    "numpy.unique(numpy.diff(arr))[0]"
   ]
  },
  {
   "cell_type": "code",
   "execution_count": 6,
   "metadata": {},
   "outputs": [
    {
     "name": "stdout",
     "output_type": "stream",
     "text": [
      "1\n"
     ]
    }
   ],
   "source": [
    "a = None\n",
    "b = 2.1\n",
    "\n",
    "if not a and b:\n",
    "    print(\"1\")\n",
    "elif b is None and a:\n",
    "    print(\"2\")\n",
    "elif a and b:\n",
    "    print(\"3\")\n",
    "else:\n",
    "    print(\"4\")"
   ]
  }
 ],
 "metadata": {
  "kernelspec": {
   "display_name": "ts-vnv",
   "language": "python",
   "name": "python3"
  },
  "language_info": {
   "codemirror_mode": {
    "name": "ipython",
    "version": 3
   },
   "file_extension": ".py",
   "mimetype": "text/x-python",
   "name": "python",
   "nbconvert_exporter": "python",
   "pygments_lexer": "ipython3",
   "version": "3.11.5"
  }
 },
 "nbformat": 4,
 "nbformat_minor": 2
}
