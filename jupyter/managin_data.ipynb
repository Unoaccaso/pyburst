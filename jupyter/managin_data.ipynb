{
 "cells": [
  {
   "cell_type": "markdown",
   "metadata": {},
   "source": [
    "# TimeSeries\n",
    "\n",
    "Innanzitutto devo mettere i dati da qualche parte"
   ]
  },
  {
   "cell_type": "code",
   "execution_count": 1,
   "metadata": {},
   "outputs": [],
   "source": [
    "import sys\n",
    "sys.path.insert(0, \"../src\")"
   ]
  },
  {
   "cell_type": "code",
   "execution_count": 2,
   "metadata": {},
   "outputs": [
    {
     "name": "stdout",
     "output_type": "stream",
     "text": [
      "Fetched 1 URLs from gwosc.org for [1126259452 .. 1126259473))\n",
      "Fetched 1 URLs from gwosc.org for [1249852247 .. 1249852267))\n",
      "Reading data... Reading data... [Done]\n",
      "[Done]\n"
     ]
    }
   ],
   "source": [
    "from pyburst import EventDataLoader\n",
    "\n",
    "data = EventDataLoader.get_event_data(\n",
    "    [\"GW150914\", \"GW190814\"],\n",
    "    [\"L1\"],\n",
    "    verbose=True,\n",
    "    duration=20.,\n",
    ")\n",
    "\n",
    "gwpy_timeseries = data[\"GW150914\"][\"L1\"][\"time_series\"]\n",
    "\n",
    "strain = gwpy_timeseries.value\n",
    "times = gwpy_timeseries.times.value"
   ]
  },
  {
   "cell_type": "markdown",
   "metadata": {},
   "source": [
    "Voglio usare un formato dati più standard, tipo xarray"
   ]
  },
  {
   "cell_type": "code",
   "execution_count": 21,
   "metadata": {},
   "outputs": [
    {
     "ename": "AssertionError",
     "evalue": "time data has a sampling rate of 4096 s, input sampling rate is 2048 s. Please correct!",
     "output_type": "error",
     "traceback": [
      "\u001b[1;31m---------------------------------------------------------------------------\u001b[0m",
      "\u001b[1;31mAssertionError\u001b[0m                            Traceback (most recent call last)",
      "Cell \u001b[1;32mIn[21], line 4\u001b[0m\n\u001b[0;32m      1\u001b[0m \u001b[38;5;28;01mfrom\u001b[39;00m \u001b[38;5;21;01mpyburst\u001b[39;00m\u001b[38;5;21;01m.\u001b[39;00m\u001b[38;5;21;01mtimeseries\u001b[39;00m \u001b[38;5;28;01mimport\u001b[39;00m TimeSeries\n\u001b[0;32m      2\u001b[0m \u001b[38;5;28;01mimport\u001b[39;00m \u001b[38;5;21;01mnumpy\u001b[39;00m\n\u001b[1;32m----> 4\u001b[0m arr \u001b[38;5;241m=\u001b[39m \u001b[43mTimeSeries\u001b[49m\u001b[38;5;241;43m.\u001b[39;49m\u001b[43mbuild\u001b[49m\u001b[43m(\u001b[49m\u001b[43mstrain\u001b[49m\u001b[43m,\u001b[49m\u001b[43m \u001b[49m\u001b[38;5;124;43m\"\u001b[39;49m\u001b[38;5;124;43mGW150914\u001b[39;49m\u001b[38;5;124;43m\"\u001b[39;49m\u001b[43m,\u001b[49m\u001b[43m \u001b[49m\u001b[38;5;124;43m\"\u001b[39;49m\u001b[38;5;124;43mL1\u001b[39;49m\u001b[38;5;124;43m\"\u001b[39;49m\u001b[43m,\u001b[49m\u001b[43m \u001b[49m\u001b[43mtimes\u001b[49m\u001b[43m \u001b[49m\u001b[38;5;241;43m=\u001b[39;49m\u001b[43m \u001b[49m\u001b[43mtimes\u001b[49m\u001b[43m,\u001b[49m\u001b[43m \u001b[49m\u001b[43msampling_rate\u001b[49m\u001b[38;5;241;43m=\u001b[39;49m\u001b[38;5;241;43m2048\u001b[39;49m\u001b[43m)\u001b[49m\n",
      "File \u001b[1;32mc:\\coding\\python\\qptransform\\qp-transform\\jupyter\\../src\\pyburst\\_typing.py:187\u001b[0m, in \u001b[0;36mtype_check.<locals>.decorator.<locals>.wrapper\u001b[1;34m(*args, **kwargs)\u001b[0m\n\u001b[0;32m    184\u001b[0m     kwarg_type \u001b[38;5;241m=\u001b[39m var_name_and_type[kwarg_name]\n\u001b[0;32m    185\u001b[0m     _check_arg(kwarg, kwarg_type)\n\u001b[1;32m--> 187\u001b[0m \u001b[38;5;28;01mreturn\u001b[39;00m \u001b[43mfunc\u001b[49m\u001b[43m(\u001b[49m\u001b[38;5;241;43m*\u001b[39;49m\u001b[43margs\u001b[49m\u001b[43m,\u001b[49m\u001b[43m \u001b[49m\u001b[38;5;241;43m*\u001b[39;49m\u001b[38;5;241;43m*\u001b[39;49m\u001b[43mkwargs\u001b[49m\u001b[43m)\u001b[49m\n",
      "File \u001b[1;32mc:\\coding\\python\\qptransform\\qp-transform\\jupyter\\../src\\pyburst\\timeseries.py:89\u001b[0m, in \u001b[0;36mTimeSeries.build\u001b[1;34m(cls, strain, name, detector_id, detector_name, times, dt, sampling_rate, t0_gps, duration)\u001b[0m\n\u001b[0;32m     87\u001b[0m input_time_params \u001b[38;5;241m=\u001b[39m (times, dt, sampling_rate, t0_gps, duration)\n\u001b[0;32m     88\u001b[0m \u001b[38;5;28mcls\u001b[39m\u001b[38;5;241m.\u001b[39m_input_check(\u001b[38;5;241m*\u001b[39minput_time_params)\n\u001b[1;32m---> 89\u001b[0m (times, dt, sampling_rate, t0_gps, duration) \u001b[38;5;241m=\u001b[39m \u001b[38;5;28;43mcls\u001b[39;49m\u001b[38;5;241;43m.\u001b[39;49m\u001b[43m_compute_missing_params\u001b[49m\u001b[43m(\u001b[49m\n\u001b[0;32m     90\u001b[0m \u001b[43m    \u001b[49m\u001b[38;5;241;43m*\u001b[39;49m\u001b[43minput_time_params\u001b[49m\n\u001b[0;32m     91\u001b[0m \u001b[43m\u001b[49m\u001b[43m)\u001b[49m\n",
      "File \u001b[1;32mc:\\coding\\python\\qptransform\\qp-transform\\jupyter\\../src\\pyburst\\_typing.py:187\u001b[0m, in \u001b[0;36mtype_check.<locals>.decorator.<locals>.wrapper\u001b[1;34m(*args, **kwargs)\u001b[0m\n\u001b[0;32m    184\u001b[0m     kwarg_type \u001b[38;5;241m=\u001b[39m var_name_and_type[kwarg_name]\n\u001b[0;32m    185\u001b[0m     _check_arg(kwarg, kwarg_type)\n\u001b[1;32m--> 187\u001b[0m \u001b[38;5;28;01mreturn\u001b[39;00m \u001b[43mfunc\u001b[49m\u001b[43m(\u001b[49m\u001b[38;5;241;43m*\u001b[39;49m\u001b[43margs\u001b[49m\u001b[43m,\u001b[49m\u001b[43m \u001b[49m\u001b[38;5;241;43m*\u001b[39;49m\u001b[38;5;241;43m*\u001b[39;49m\u001b[43mkwargs\u001b[49m\u001b[43m)\u001b[49m\n",
      "File \u001b[1;32mc:\\coding\\python\\qptransform\\qp-transform\\jupyter\\../src\\pyburst\\timeseries.py:63\u001b[0m, in \u001b[0;36mTimeSeries._compute_missing_params\u001b[1;34m(cls, times, dt, sampling_rate, t0_gps, duration)\u001b[0m\n\u001b[0;32m     59\u001b[0m         \u001b[38;5;28;01massert\u001b[39;00m (\n\u001b[0;32m     60\u001b[0m             _dt \u001b[38;5;241m==\u001b[39m dt\n\u001b[0;32m     61\u001b[0m         ), \u001b[38;5;124mf\u001b[39m\u001b[38;5;124m\"\u001b[39m\u001b[38;5;124mtime data has a dt of \u001b[39m\u001b[38;5;132;01m{\u001b[39;00m_dt\u001b[38;5;132;01m}\u001b[39;00m\u001b[38;5;124m s, input dt is \u001b[39m\u001b[38;5;132;01m{\u001b[39;00mdt\u001b[38;5;132;01m}\u001b[39;00m\u001b[38;5;124m s. Please correct!\u001b[39m\u001b[38;5;124m\"\u001b[39m\n\u001b[0;32m     62\u001b[0m     \u001b[38;5;28;01mif\u001b[39;00m sampling_rate \u001b[38;5;129;01mis\u001b[39;00m \u001b[38;5;129;01mnot\u001b[39;00m \u001b[38;5;28;01mNone\u001b[39;00m:\n\u001b[1;32m---> 63\u001b[0m         \u001b[38;5;28;01massert\u001b[39;00m (\n\u001b[0;32m     64\u001b[0m             _sampling_rate \u001b[38;5;241m==\u001b[39m sampling_rate\n\u001b[0;32m     65\u001b[0m         ), \u001b[38;5;124mf\u001b[39m\u001b[38;5;124m\"\u001b[39m\u001b[38;5;124mtime data has a sampling rate of \u001b[39m\u001b[38;5;132;01m{\u001b[39;00m_sampling_rate\u001b[38;5;132;01m}\u001b[39;00m\u001b[38;5;124m s, input sampling rate is \u001b[39m\u001b[38;5;132;01m{\u001b[39;00msampling_rate\u001b[38;5;132;01m}\u001b[39;00m\u001b[38;5;124m s. Please correct!\u001b[39m\u001b[38;5;124m\"\u001b[39m\n\u001b[0;32m     66\u001b[0m \u001b[38;5;28;01mif\u001b[39;00m times \u001b[38;5;129;01mis\u001b[39;00m \u001b[38;5;28;01mNone\u001b[39;00m:\n\u001b[0;32m     67\u001b[0m     t_start \u001b[38;5;241m=\u001b[39m t0_gps\n",
      "\u001b[1;31mAssertionError\u001b[0m: time data has a sampling rate of 4096 s, input sampling rate is 2048 s. Please correct!"
     ]
    }
   ],
   "source": [
    "from pyburst.timeseries import TimeSeries\n",
    "import numpy\n",
    "\n",
    "arr = TimeSeries.build(strain, \"GW150914\", \"L1\", times = times)"
   ]
  },
  {
   "cell_type": "code",
   "execution_count": null,
   "metadata": {},
   "outputs": [
    {
     "name": "stderr",
     "output_type": "stream",
     "text": [
      "C:\\Users\\felic\\AppData\\Local\\Temp\\ipykernel_22128\\2435398839.py:25: AccessorRegistrationWarning: registration of accessor <class '__main__.TimeSeries'> under name 'timeseries' for type <class 'xarray.core.dataarray.DataArray'> is overriding a preexisting attribute with the same name.\n",
      "  @xarray.register_dataarray_accessor(\"timeseries\")\n"
     ]
    }
   ],
   "source": [
    "import xarray\n",
    "from numpy import float32\n",
    "import gwpy\n",
    "from pyburst import type_check\n",
    "import astropy\n",
    "import pandas\n",
    "\n",
    "@type_check()\n",
    "def gwpy_to_xarray(\n",
    "    timeserie: gwpy.timeseries.TimeSeries,\n",
    "    event_gps: float,\n",
    "    detector_id: str,\n",
    "    name: str = \"\", \n",
    "    detector_name: str = \"\",\n",
    "):\n",
    "    strain = timeserie.value\n",
    "    time = timeserie.times.value\n",
    "\n",
    "    time_axis = pandas.to_datetime(astropy.time.Time(time, format='gps').iso)\n",
    "\n",
    "    return xarray.DataArray(strain, coords=dict(time = time_axis), attrs=dict(event_name = name, detector_id = detector_id, detector_name = detector_name))\n",
    "\n",
    "arr_timeseries = gwpy_to_xarray(gwpy_timeseries, data[\"GW150914\"][\"L1\"][\"gps_time\"], \"L1\")\n",
    "\n",
    "@xarray.register_dataarray_accessor(\"timeseries\")\n",
    "class TimeSeries:\n",
    "    def __init__(self, xarray_obj):\n",
    "        self._obj = xarray_obj\n",
    "        self._check_array_attrs(\"time\")\n",
    "\n",
    "    def _check_array_attrs(self, attribute: str):\n",
    "        if not hasattr(self._obj, attribute):\n",
    "            raise AttributeError(\n",
    "                f\"Array has no attribute {attribute}, to use timeseries properties provide an array with the corret format.\"\n",
    "            )\n",
    "\n",
    "    @property\n",
    "    def dt(self):\n",
    "        return float32(self._obj.time[1] - self._obj.time[0])"
   ]
  }
 ],
 "metadata": {
  "kernelspec": {
   "display_name": "pyburst",
   "language": "python",
   "name": "python3"
  },
  "language_info": {
   "codemirror_mode": {
    "name": "ipython",
    "version": 3
   },
   "file_extension": ".py",
   "mimetype": "text/x-python",
   "name": "python",
   "nbconvert_exporter": "python",
   "pygments_lexer": "ipython3",
   "version": "3.12.2"
  }
 },
 "nbformat": 4,
 "nbformat_minor": 2
}
