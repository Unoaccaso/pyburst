{
 "cells": [
  {
   "cell_type": "markdown",
   "metadata": {},
   "source": [
    "# TimeSeries\n",
    "\n",
    "Innanzitutto devo mettere i dati da qualche parte"
   ]
  },
  {
   "cell_type": "code",
   "execution_count": 2,
   "metadata": {},
   "outputs": [],
   "source": [
    "import sys\n",
    "sys.path.insert(0, \"../src\")"
   ]
  },
  {
   "cell_type": "markdown",
   "metadata": {},
   "source": [
    "Implemento una mia versione di timeseries"
   ]
  },
  {
   "cell_type": "code",
   "execution_count": 14,
   "metadata": {
    "slideshow": {
     "slide_type": "slide"
    }
   },
   "outputs": [
    {
     "data": {
      "text/plain": [
       "{'GW150914': {'L1': ShortSeries(segment_name='GW150914', detector_id='L1', detector_name='Ligo Livingston (L1)', t0_gps=1126259452.3999023, duration=20.0, dt=0.000244140625, sampling_rate=4096, reference_time_gps=1126259462.4)},\n",
       " 'GW190814': {'L1': ShortSeries(segment_name='GW190814', detector_id='L1', detector_name='Ligo Livingston (L1)', t0_gps=1249852247.0, duration=20.0, dt=0.000244140625, sampling_rate=4096, reference_time_gps=1249852257.0)}}"
      ]
     },
     "execution_count": 14,
     "metadata": {},
     "output_type": "execute_result"
    }
   ],
   "source": [
    "from pyburst.timeseries import TimeSeries\n",
    "import numpy, cupy, dask.array\n",
    "\n",
    "arr = TimeSeries.fetch_open_data(\n",
    "    [\"GW150914\", \"GW190814\"],\n",
    "    [\"L1\"],\n",
    "    duration=20.,\n",
    "    verbose=True,\n",
    "    use_gpu=False,\n",
    ")\n",
    "TimeSeries._CACHED_DATA"
   ]
  },
  {
   "cell_type": "code",
   "execution_count": 8,
   "metadata": {},
   "outputs": [
    {
     "data": {
      "text/plain": [
       "20.0"
      ]
     },
     "execution_count": 8,
     "metadata": {},
     "output_type": "execute_result"
    }
   ],
   "source": [
    "ts = TimeSeries._CACHED_DATA[\"GW150914\"][\"L1\"]\n",
    "ts.duration + ts.dt"
   ]
  }
 ],
 "metadata": {
  "kernelspec": {
   "display_name": "pyburst",
   "language": "python",
   "name": "python3"
  },
  "language_info": {
   "codemirror_mode": {
    "name": "ipython",
    "version": 3
   },
   "file_extension": ".py",
   "mimetype": "text/x-python",
   "name": "python",
   "nbconvert_exporter": "python",
   "pygments_lexer": "ipython3",
   "version": "3.12.2"
  }
 },
 "nbformat": 4,
 "nbformat_minor": 2
}
