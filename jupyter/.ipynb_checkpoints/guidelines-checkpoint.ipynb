{
 "cells": [
  {
   "cell_type": "markdown",
   "metadata": {
    "slideshow": {
     "slide_type": "slide"
    }
   },
   "source": [
    "----------\n",
    "## Guidelines for TimeSeries object"
   ]
  },
  {
   "cell_type": "markdown",
   "metadata": {
    "slideshow": {
     "slide_type": "subslide"
    }
   },
   "source": [
    "A time-series object is an `array-like` object that requires `time-like` indices.\n",
    "\n",
    "Some examples of `TimeSeries` include:\n",
    "- Output of an interferometer\n",
    "- Stock price over time for a company\n",
    "- Temperature recorded at different times of the day in a specific location\n",
    "- Industrial production of a factory over time\n",
    "- Energy consumption of a household over time\n",
    "- Yield of an agricultural crop over the years\n",
    "- Number of customers in a retail store over time\n",
    "- Financial data such as stock prices, trading volume, and daily returns\n",
    "- Traffic flow on a road throughout the day\n"
   ]
  },
  {
   "cell_type": "code",
   "execution_count": null,
   "metadata": {
    "slideshow": {
     "slide_type": "slide"
    }
   },
   "outputs": [],
   "source": []
  }
 ],
 "metadata": {
  "kernelspec": {
   "display_name": "pyburst",
   "language": "python",
   "name": "python3"
  },
  "language_info": {
   "name": "python",
   "version": "3.12.2"
  }
 },
 "nbformat": 4,
 "nbformat_minor": 2
}
